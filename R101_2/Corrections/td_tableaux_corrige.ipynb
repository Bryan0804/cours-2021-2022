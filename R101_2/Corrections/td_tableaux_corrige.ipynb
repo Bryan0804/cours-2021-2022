{
 "cells": [
  {
   "cell_type": "markdown",
   "id": "8b0a3343",
   "metadata": {
    "deletable": false,
    "editable": false,
    "run_control": {
     "frozen": true
    }
   },
   "source": [
    "# TD : Listes en python  - Correction"
   ]
  },
  {
   "cell_type": "markdown",
   "id": "ff178c42",
   "metadata": {
    "deletable": false,
    "editable": false,
    "run_control": {
     "frozen": true
    }
   },
   "source": [
    "## Exercice 1 : Insertion dans un tableau"
   ]
  },
  {
   "cell_type": "markdown",
   "id": "a6bc3628",
   "metadata": {
    "deletable": false,
    "editable": false,
    "run_control": {
     "frozen": true
    }
   },
   "source": [
    "Définir une fonction `insertion_tableau` prenant en paramètre une liste `L`, une valeur `v` et un indice `i` et insérant la valeur `v` à l'indice `i` dans `L` (fonction comparable à `L.insert(i,v)` définie en Python). \n",
    "\n",
    "Cette fonction ne doit pas utiliser la fonction `L.insert`, seule la fonction  `L.append` est permise pour augmenter la taille du tableau."
   ]
  },
  {
   "cell_type": "code",
   "execution_count": null,
   "id": "f9e6b4b0",
   "metadata": {
    "tags": [
     "answer"
    ]
   },
   "outputs": [],
   "source": [
    "##################\n",
    "#   Correction   #\n",
    "##################\n",
    "\n",
    "\n",
    "def insertion_tableau(L, i, v):\n",
    "    \"\"\"Insère la valeur v à l'indice i dans la liste L.\"\"\"\n",
    "    #test de la validité de la position\n",
    "    if i < 0 or i > len(L):\n",
    "        return\n",
    "\n",
    "    L.append(0)  #On ajoute une case\n",
    "    j = len(L) - 1\n",
    "    while j > i:\n",
    "        L[j] = L[j - 1]  #On décale les éléments\n",
    "        j -= 1\n",
    "    L[i] = v\n",
    "\n",
    "\n",
    "liste = [1, 2, 3, 4]\n",
    "insertion_tableau(liste, 1, 42)\n",
    "print(liste)"
   ]
  },
  {
   "cell_type": "markdown",
   "id": "218d463d",
   "metadata": {
    "deletable": false,
    "editable": false,
    "run_control": {
     "frozen": true
    }
   },
   "source": [
    "Quelle est la complexité asymptotique de la fonction `insertion_tableau` ?"
   ]
  },
  {
   "cell_type": "markdown",
   "id": "1c2c6fb8",
   "metadata": {
    "deletable": false,
    "editable": false,
    "run_control": {
     "frozen": true
    },
    "tags": [
     "answer"
    ]
   },
   "source": [
    "**CORRECTION :**\n",
    "\n",
    "\n",
    "La fonction a une complexité linéaire car dans le pire des cas (insertion en début de tableau), on doit décaler tous les éléments du tableau."
   ]
  },
  {
   "cell_type": "markdown",
   "id": "ec2d1c03",
   "metadata": {
    "deletable": false,
    "editable": false,
    "run_control": {
     "frozen": true
    }
   },
   "source": [
    "## Exercice 2 : suppression d'un élément dans un tableau\n",
    "\n",
    "Définir la fonction `suppression_tableau` prenant en paramètre un tableau et un indice et supprimant dans le tableau l'élément se trouvant à l'indice donné (fonction similaire à `L.pop(i)`). \n",
    "\n",
    "Pour supprimer un élément, la fonction peut juste appeler la fonction `L.pop()` (sans argument) pour supprimer la dernière case."
   ]
  },
  {
   "cell_type": "code",
   "execution_count": null,
   "id": "dc283912",
   "metadata": {
    "tags": [
     "answer"
    ]
   },
   "outputs": [],
   "source": [
    "##################\n",
    "#   Correction   #\n",
    "##################\n",
    "\n",
    "\n",
    "def suppression_tableau(tab, i):\n",
    "    \"\"\"Supprime l'élément se trouvant à l'indice i dans le tableau tab.\"\"\"\n",
    "    if i < 0 or i >= len(tab):\n",
    "        return\n",
    "    j = i\n",
    "    while j < len(tab) - 1:\n",
    "        tab[j] = tab[j + 1]\n",
    "        j += 1\n",
    "    tab.pop()\n",
    "\n",
    "\n",
    "liste = [1, 2, 3, 4]\n",
    "suppression_tableau(liste, 2)\n",
    "print(liste)"
   ]
  },
  {
   "cell_type": "markdown",
   "id": "6cce56f5",
   "metadata": {
    "deletable": false,
    "editable": false,
    "run_control": {
     "frozen": true
    }
   },
   "source": [
    "Quelle est la complexité de la fonction `suppression_tableau` ?"
   ]
  },
  {
   "cell_type": "markdown",
   "id": "ae16d2cc",
   "metadata": {
    "deletable": false,
    "editable": false,
    "run_control": {
     "frozen": true
    },
    "tags": [
     "answer"
    ]
   },
   "source": [
    "**CORRECTION :**\n",
    "\n",
    "\n",
    "La fonction a une complexité linéaire car dans le pire des cas (suppression du premier élément), tous les éléments (sauf le premier) sont décalés. Le décalage correspond à un nombre constant d'opérations élémentaires.\n",
    "La suppression du dernier élément est aussi une opération élémentaire."
   ]
  },
  {
   "cell_type": "markdown",
   "id": "061d018c",
   "metadata": {
    "deletable": false,
    "editable": false,
    "run_control": {
     "frozen": true
    }
   },
   "source": [
    "## Exercice 3 : Copie d'un tableau"
   ]
  },
  {
   "cell_type": "markdown",
   "id": "2b3effc4",
   "metadata": {
    "deletable": false,
    "editable": false,
    "run_control": {
     "frozen": true
    }
   },
   "source": [
    "Définir la fonction `copie_tableau` retournant une copie du tableau `L` passé en paramètre (fonction comparable à `L.copy()`). \n",
    "\n",
    "Cette fonction ne doit pas utiliser la fonction `L.copy`, seule la fonction `L.append` est permise pour augmenter la taille du tableau."
   ]
  },
  {
   "cell_type": "code",
   "execution_count": null,
   "id": "c99a5ebc",
   "metadata": {
    "tags": [
     "answer"
    ]
   },
   "outputs": [],
   "source": [
    "##################\n",
    "#   Correction   #\n",
    "##################\n",
    "\n",
    "\n",
    "def copie_tableau(L):\n",
    "    \"\"\"Retourne une copie du tableau L passé en paramètre.\"\"\"\n",
    "    copie = []\n",
    "    i = 0\n",
    "    while i < len(L):\n",
    "        copie.append(L[i])\n",
    "        i += 1\n",
    "    return copie\n",
    "\n",
    "\n",
    "liste = [1, 2, 3, 4]\n",
    "c = copie_tableau(liste)\n",
    "\n",
    "print(liste)\n",
    "print(c)\n",
    "liste[0] = 42\n",
    "print(liste)\n",
    "print(c)"
   ]
  },
  {
   "cell_type": "markdown",
   "id": "1a9a785a",
   "metadata": {
    "deletable": false,
    "editable": false,
    "run_control": {
     "frozen": true
    }
   },
   "source": [
    "Quelle est la complexité asymptotique de la fonction `copie_tableau` ?"
   ]
  },
  {
   "cell_type": "markdown",
   "id": "51f1b5b2",
   "metadata": {
    "deletable": false,
    "editable": false,
    "run_control": {
     "frozen": true
    },
    "tags": [
     "answer"
    ]
   },
   "source": [
    "**CORRECTION :**\n",
    "\n",
    "\n",
    "La fonction a une complexité linéaire : pour chaque élément, on ajoute une case à la fin du nouveau tableau (opération élémentaire)."
   ]
  },
  {
   "cell_type": "markdown",
   "id": "c8118fad",
   "metadata": {
    "deletable": false,
    "editable": false,
    "run_control": {
     "frozen": true
    }
   },
   "source": [
    "## Exercice 4 : Fonctions sur des  listes (tableaux) triées ou non triées"
   ]
  },
  {
   "cell_type": "markdown",
   "id": "f598471e",
   "metadata": {
    "deletable": false,
    "editable": false,
    "run_control": {
     "frozen": true
    }
   },
   "source": [
    "Les questions de cet exercice ont pour objet de manipuler les listes/tableaux en Python et de comparer ce qui se passe si on travaille avec des tableaux triés ou des tableaux quelconques. Pour chacune des fonctions à implémenter, on définira deux versions : \n",
    "\n",
    "* une première version prendra en paramètre une liste de nombres quelconques. Pour plus d'efficacité, la fonction pourra modifier l'ordre des éléments dans la liste,\n",
    "\n",
    "* la seconde version prendra en paramètre une liste de nombres triés dans l'ordre croissant ; la liste devra rester triée."
   ]
  },
  {
   "cell_type": "markdown",
   "id": "964c6292",
   "metadata": {
    "deletable": false,
    "editable": false,
    "run_control": {
     "frozen": true
    }
   },
   "source": [
    "### Question 1 : Minimum d'un tableau"
   ]
  },
  {
   "cell_type": "markdown",
   "id": "b5bf726c",
   "metadata": {
    "deletable": false,
    "editable": false,
    "run_control": {
     "frozen": true
    }
   },
   "source": [
    "* Définir la fonction `minimum_tableau` prenant en paramètre un tableau de nombres et retournant le minimum."
   ]
  },
  {
   "cell_type": "code",
   "execution_count": null,
   "id": "ad20bdff",
   "metadata": {
    "tags": [
     "answer"
    ]
   },
   "outputs": [],
   "source": [
    "##################\n",
    "#   Correction   #\n",
    "##################\n",
    "\n",
    "\n",
    "def minimum_tableau(L):\n",
    "    \"\"\"Retourne le minimum du tableau L.\"\"\"\n",
    "    if len(L) == 0:\n",
    "        return\n",
    "    min = L[0]\n",
    "    i = 1\n",
    "    while i < len(L):\n",
    "        if L[i] < min:\n",
    "            min = L[i]\n",
    "        i += 1\n",
    "    return min\n",
    "\n",
    "\n",
    "liste = [1, 2, -3, -4]\n",
    "m = minimum_tableau(liste)\n",
    "print(m)"
   ]
  },
  {
   "cell_type": "markdown",
   "id": "78d96313",
   "metadata": {
    "deletable": false,
    "editable": false,
    "run_control": {
     "frozen": true
    }
   },
   "source": [
    "* Définir la fonction `minimum_tableau_trie` prenant en paramètre un tableau de nombres triés dans l'ordre croissant et retournant le minimum."
   ]
  },
  {
   "cell_type": "code",
   "execution_count": null,
   "id": "5b61929d",
   "metadata": {
    "tags": [
     "answer"
    ]
   },
   "outputs": [],
   "source": [
    "##################\n",
    "#   Correction   #\n",
    "##################\n",
    "\n",
    "\n",
    "def minimum_tableau_trie(L):\n",
    "    \"\"\"Retourne le minimum du tableau L (L est supposé trié).\"\"\"\n",
    "    #test si la liste est vide\n",
    "    if len(L) == 0:\n",
    "        return\n",
    "    return L[0]\n",
    "\n",
    "\n",
    "liste = [1, 2, 5, 4]\n",
    "m = minimum_tableau_trie(liste)\n",
    "print(m)"
   ]
  },
  {
   "cell_type": "markdown",
   "id": "570818b7",
   "metadata": {
    "deletable": false,
    "editable": false,
    "run_control": {
     "frozen": true
    }
   },
   "source": [
    "- Quelle est la complexité dans le pire des cas de chacune de ces fonctions ?"
   ]
  },
  {
   "cell_type": "markdown",
   "id": "16165849",
   "metadata": {
    "deletable": false,
    "editable": false,
    "run_control": {
     "frozen": true
    },
    "tags": [
     "answer"
    ]
   },
   "source": [
    "**CORRECTION :**\n",
    "\n",
    "\n",
    "* `minimum_tableau` : complexité linéaire\n",
    "\n",
    "* `minimum_tableau_trie` : complexité constante"
   ]
  },
  {
   "cell_type": "markdown",
   "id": "ea151ab4",
   "metadata": {
    "deletable": false,
    "editable": false,
    "run_control": {
     "frozen": true
    }
   },
   "source": [
    "### Question 2 : Ajout d'un élément"
   ]
  },
  {
   "cell_type": "markdown",
   "id": "083543de",
   "metadata": {
    "deletable": false,
    "editable": false,
    "run_control": {
     "frozen": true
    }
   },
   "source": [
    "* Définir la fonction `ajouter_tableau` ajoutant un nombre à un tableau de nombres."
   ]
  },
  {
   "cell_type": "code",
   "execution_count": null,
   "id": "cba28ec4",
   "metadata": {
    "tags": [
     "answer"
    ]
   },
   "outputs": [],
   "source": [
    "##################\n",
    "#   Correction   #\n",
    "##################\n",
    "\n",
    "\n",
    "def ajouter_tableau(L, nb):\n",
    "    \"\"\"Ajoute l'élément nb à la fin du tableau L.\"\"\"\n",
    "    L.append(nb)\n",
    "\n",
    "\n",
    "liste = [1, 2, 3, 4]\n",
    "ajouter_tableau(liste, 42)\n",
    "print(liste)"
   ]
  },
  {
   "cell_type": "markdown",
   "id": "b527538e",
   "metadata": {
    "deletable": false,
    "editable": false,
    "run_control": {
     "frozen": true
    }
   },
   "source": [
    "* Définir la fonction `ajouter_tableau_trie` ajoutant un nombre à un tableau trié."
   ]
  },
  {
   "cell_type": "code",
   "execution_count": null,
   "id": "996362da",
   "metadata": {
    "tags": [
     "answer"
    ]
   },
   "outputs": [],
   "source": [
    "##################\n",
    "#   Correction   #\n",
    "##################\n",
    "\n",
    "\n",
    "def ajouter_tableau_trie(L, nb):\n",
    "    \"\"\"Ajoute l'élément nb dans la liste L triée. L'ajout se fait de manière à ce que la liste L reste triée.\"\"\"\n",
    "    j = len(L) - 1\n",
    "    L.append(0)\n",
    "    while j >= 0 and L[j] > nb:\n",
    "        L[j + 1] = L[j]\n",
    "        j -= 1\n",
    "    L[j + 1] = nb\n",
    "\n",
    "\n",
    "liste = [10, 20, 30, 40]\n",
    "ajouter_tableau_trie(liste, 45)\n",
    "print(liste)"
   ]
  },
  {
   "cell_type": "markdown",
   "id": "ef958f35",
   "metadata": {
    "deletable": false,
    "editable": false,
    "run_control": {
     "frozen": true
    }
   },
   "source": [
    "- Quelle est la complexité dans le pire des cas de chacune de ces fonctions ?"
   ]
  },
  {
   "cell_type": "markdown",
   "id": "2046db41",
   "metadata": {
    "deletable": false,
    "editable": false,
    "run_control": {
     "frozen": true
    },
    "tags": [
     "answer"
    ]
   },
   "source": [
    "**CORRECTION :**\n",
    "\n",
    "\n",
    "* `ajouter_tableau` : complexité constante. \n",
    "\n",
    "* `ajouter_tableau_trie` : complexité linéaire."
   ]
  },
  {
   "cell_type": "markdown",
   "id": "9df3a790",
   "metadata": {
    "deletable": false,
    "editable": false,
    "run_control": {
     "frozen": true
    }
   },
   "source": [
    "### Question 3 : Suppression d'un élément"
   ]
  },
  {
   "cell_type": "markdown",
   "id": "2f653e23",
   "metadata": {
    "deletable": false,
    "editable": false,
    "run_control": {
     "frozen": true
    }
   },
   "source": [
    "* Définir la fonction `supprimer_tableau` prenant en paramètre un tableau et un indice `id` et supprimant dans le tableau la valeur d'indice `id`.\n",
    "\n",
    "  On utilisera pour cela la fonction `L.pop()` qui supprime la dernière case d'un tableau, mais pas la fonction `L.pop(i)`"
   ]
  },
  {
   "cell_type": "code",
   "execution_count": null,
   "id": "fc9c878e",
   "metadata": {
    "tags": [
     "answer"
    ]
   },
   "outputs": [],
   "source": [
    "##################\n",
    "#   Correction   #\n",
    "##################\n",
    "\n",
    "\n",
    "def supprimer_tableau(L, id):\n",
    "    \"\"\"Supprime dans L l'élément d'indice id. Modifie l'ordre des éléments pour plus d'efficacité.\"\"\"\n",
    "    #la valeur à supprimer prend la dernière valeur du tableau\n",
    "    L[id] = L[len(L) - 1]\n",
    "    L.pop()\n",
    "\n",
    "\n",
    "liste = [10, 20, 30, 40]\n",
    "supprimer_tableau(liste, 1)\n",
    "print(liste)"
   ]
  },
  {
   "cell_type": "markdown",
   "id": "ee075706",
   "metadata": {
    "deletable": false,
    "editable": false,
    "run_control": {
     "frozen": true
    }
   },
   "source": [
    "* Définir la fonction `supprimer_tableau_trie` prenant en paramètre un tableau trié et un indice `id` et supprimant dans le tableau la valeur d'indice `id`."
   ]
  },
  {
   "cell_type": "code",
   "execution_count": null,
   "id": "024cd19b",
   "metadata": {
    "tags": [
     "answer"
    ]
   },
   "outputs": [],
   "source": [
    "##################\n",
    "#   Correction   #\n",
    "##################\n",
    "\n",
    "\n",
    "def supprimer_tableau_trie(L, id):\n",
    "    \"\"\"Supprime l'élément d'indice id dans L. Décale les éléments de manière à ce que la liste reste triée.\"\"\"\n",
    "    j = id\n",
    "    while j < len(L) - 1:\n",
    "        L[j] = L[j + 1]\n",
    "        j += 1\n",
    "    L.pop()\n",
    "\n",
    "\n",
    "liste = [10, 20, 30, 40]\n",
    "supprimer_tableau_trie(liste, 1)\n",
    "print(liste)"
   ]
  },
  {
   "cell_type": "markdown",
   "id": "6c0e007a",
   "metadata": {
    "deletable": false,
    "editable": false,
    "run_control": {
     "frozen": true
    }
   },
   "source": [
    "- Quelle est la complexité dans le pire des cas de chacune de ces fonctions ?"
   ]
  },
  {
   "cell_type": "markdown",
   "id": "c6e4b917",
   "metadata": {
    "deletable": false,
    "editable": false,
    "run_control": {
     "frozen": true
    },
    "tags": [
     "answer"
    ]
   },
   "source": [
    "**CORRECTION :**\n",
    "\n",
    "\n",
    "* `supprimer_tableau` : complexité constante. \n",
    "* `supprimerer_tableau_trie` : complexité linéaire."
   ]
  },
  {
   "cell_type": "markdown",
   "id": "0635fa79",
   "metadata": {
    "deletable": false,
    "editable": false,
    "run_control": {
     "frozen": true
    }
   },
   "source": [
    "# Pour aller plus loin"
   ]
  },
  {
   "cell_type": "markdown",
   "id": "637e652c",
   "metadata": {
    "deletable": false,
    "editable": false,
    "run_control": {
     "frozen": true
    }
   },
   "source": [
    "## Exercice 5 : Réarrangement de tableau**"
   ]
  },
  {
   "cell_type": "markdown",
   "id": "43a93510",
   "metadata": {
    "deletable": false,
    "editable": false,
    "run_control": {
     "frozen": true
    }
   },
   "source": [
    "### Question 1\n",
    "\n",
    "Écrire une fonction `deplacer(T, k)` prenant en paramètre un tableau `T` et une valeur `k` et permutant les valeurs du tableau `T` de manière à ce que toutes les valeurs strictement inférieures à `k` soient au début de tableau. "
   ]
  },
  {
   "cell_type": "markdown",
   "id": "af763424",
   "metadata": {
    "deletable": false,
    "editable": false,
    "run_control": {
     "frozen": true
    }
   },
   "source": [
    "**Remarque :** L'ordre des éléments dans le tableau n'a pas d'importance tant que les éléments strictement inférieurs à `k` sont placés au début du tableau."
   ]
  },
  {
   "cell_type": "code",
   "execution_count": null,
   "id": "747ac745",
   "metadata": {
    "tags": [
     "answer"
    ]
   },
   "outputs": [],
   "source": [
    "##################\n",
    "#   Correction   #\n",
    "##################\n",
    "\n",
    "\n",
    "def deplacer(T, k):\n",
    "    \"\"\"Réarrange les éléments du tableau T de manière à ce que tous les éléments inférieurs strictement à k\n",
    "    soient au début du tableau.\"\"\"\n",
    "    i = 0\n",
    "    d = len(T) - 1\n",
    "    while i < d:\n",
    "        if T[i] < k:\n",
    "            i += 1\n",
    "        elif T[d] >= k:\n",
    "            d -= 1\n",
    "        else:\n",
    "            tmp = T[i]\n",
    "            T[i] = T[d]\n",
    "            T[d] = tmp\n",
    "\n",
    "\n",
    "T = [3, 5, 12, 8, 13, 12, 19, 2, 6]\n",
    "k = 6\n",
    "deplacer(T, k)\n",
    "print(T)"
   ]
  },
  {
   "cell_type": "markdown",
   "id": "595bd03d",
   "metadata": {
    "deletable": false,
    "editable": false,
    "run_control": {
     "frozen": true
    }
   },
   "source": [
    "### Question 2\n",
    "\n",
    "Définir une fonction de tests unitaires de la fonction `deplacer`."
   ]
  },
  {
   "cell_type": "code",
   "execution_count": null,
   "id": "3d24bf90",
   "metadata": {
    "tags": [
     "answer"
    ]
   },
   "outputs": [],
   "source": [
    "##################\n",
    "#   Correction   #\n",
    "##################\n",
    "\n",
    "\n",
    "def test_deplacer():\n",
    "    T = [3, 5, 12, 8, 13, 12, 19, 2, 6]\n",
    "    deplacer(T, 12)\n",
    "    # Les 5 premiers nombres dans le tableau doivent être inférieurs à 12\n",
    "    i = 0\n",
    "    while i < 5:\n",
    "        assert T[i] < 12\n",
    "        i += 1\n",
    "\n",
    "    T = [9, 8, 7, 6, 5, 4, 3, 2, 1]\n",
    "    deplacer(T, 7)\n",
    "    # Les 6 premiers nombres dans le tableau doivent être inférieurs à 7\n",
    "    i = 0\n",
    "    while i < 6:\n",
    "        assert T[i] < 7\n",
    "        i += 1\n",
    "    print(\"Test de la fonction deplacer : ok\")\n",
    "\n",
    "\n",
    "test_deplacer()"
   ]
  }
 ],
 "metadata": {
  "kernelspec": {
   "display_name": "Python 3 (ipykernel)",
   "language": "python",
   "name": "python3"
  },
  "language_info": {
   "codemirror_mode": {
    "name": "ipython",
    "version": 3
   },
   "file_extension": ".py",
   "mimetype": "text/x-python",
   "name": "python",
   "nbconvert_exporter": "python",
   "pygments_lexer": "ipython3",
   "version": "3.9.7"
  }
 },
 "nbformat": 4,
 "nbformat_minor": 5
}
