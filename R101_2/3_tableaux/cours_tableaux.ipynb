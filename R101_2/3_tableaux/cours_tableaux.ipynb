{
 "cells": [
  {
   "cell_type": "markdown",
   "metadata": {
    "deletable": false,
    "editable": false,
    "run_control": {
     "frozen": true
    }
   },
   "source": [
    "# Cours : Listes en Python"
   ]
  },
  {
   "cell_type": "markdown",
   "metadata": {
    "deletable": false,
    "editable": false,
    "run_control": {
     "frozen": true
    }
   },
   "source": [
    "## Qu'est-ce qu'un tableau ?"
   ]
  },
  {
   "cell_type": "markdown",
   "metadata": {
    "deletable": false,
    "editable": false,
    "run_control": {
     "frozen": true
    }
   },
   "source": [
    "D'un point de vue algorithmique, un tableau est une structure de données qui permet de stocker une **suite ordonnée** de valeurs $x_0,x_1,…,x_i, …,x_{n−1}$ :\n",
    "* chaque valeur est repérée par son indice `i` (commençant à 0); \n",
    "* l'accès à une case à partir de son indice `i` se fait en **temps constant**, c'est-à-dire que ce temps ne dépend pas de `i`, ni de la longueur `n` du tableau :\n",
    "  il est donc aussi rapide d'accéder à la première valeur qu'à la 200ème (par exemple). \n",
    "  \n",
    "Ceci est possible car dans un tableau :\n",
    "* toutes les cases ont la même taille et occupent donc le même espace mémoire ;\n",
    "* les valeurs sont stockées dans des ***cases contiguës*** de la mémoire de l'ordinateur (appelée RAM : Random Acess Memory) du système informatique.\n",
    "\n",
    "<center><img src=\"./img/tableau.png\" /></center>"
   ]
  },
  {
   "cell_type": "markdown",
   "metadata": {
    "deletable": false,
    "editable": false,
    "run_control": {
     "frozen": true
    }
   },
   "source": [
    "Cette organisation dans la mémoire a un inconvénient : la taille d'un tableau est fixe."
   ]
  },
  {
   "cell_type": "markdown",
   "metadata": {
    "deletable": false,
    "editable": false,
    "run_control": {
     "frozen": true
    }
   },
   "source": [
    "##  Le type `list`  en Python\n",
    "\n",
    "Python utilise le type `list`pour implémenter les tableaux. Ce type permet d'adapter **dynamiquement** la taille des tableaux en fonction des éléments insérés. Cependant, il est important de comprendre que ces mécanismes bien qu'automatiques représentent un coût temporel.\n",
    "\n",
    "Voici les opérations qu'il est possible de faire sur une liste python."
   ]
  },
  {
   "cell_type": "markdown",
   "metadata": {
    "deletable": false,
    "editable": false,
    "run_control": {
     "frozen": true
    }
   },
   "source": [
    "### Ajout d'une valeur à la fin du tableau\n",
    "\n",
    "En python, il est possible d'ajouter une valeur `x` à la fin d'une liste `L` avec l'instruction `L.append(x)`."
   ]
  },
  {
   "cell_type": "code",
   "execution_count": null,
   "metadata": {},
   "outputs": [],
   "source": [
    "# Exemple\n",
    "\n",
    "L = [12, 23, 34, 45]\n",
    "print(L)\n",
    "\n",
    "print(\"Append de 56 : \")\n",
    "L.append(56)\n",
    "print(L)\n",
    "\n",
    "print(\"Append de 67 : \")\n",
    "L.append(67)\n",
    "print(L)"
   ]
  },
  {
   "cell_type": "markdown",
   "metadata": {
    "deletable": false,
    "editable": false,
    "run_control": {
     "frozen": true
    }
   },
   "source": [
    "**Complexité :** Cette opération est une \"opération élémentaire\" (voir le complément de cours pour plus d'information). On considère que sa complexité est $O(1)$."
   ]
  },
  {
   "cell_type": "markdown",
   "metadata": {
    "deletable": false,
    "editable": false,
    "run_control": {
     "frozen": true
    }
   },
   "source": [
    "### Suppression de la dernière valeur du tableau\n",
    "\n",
    "Il est possible de supprimer la dernière valeur du tableau `L` avec l'instruction `L.pop()`. Cette instruction retourne la valeur supprimée."
   ]
  },
  {
   "cell_type": "code",
   "execution_count": null,
   "metadata": {},
   "outputs": [],
   "source": [
    "# Exemple\n",
    "\n",
    "L = [12, 23, 34, 45]\n",
    "print(L)\n",
    "\n",
    "print(\"Suppression de la dernière valeur : \")\n",
    "dernier = L.pop()\n",
    "\n",
    "print(\"Valeur supprimée :\", dernier)\n",
    "\n",
    "print(L)"
   ]
  },
  {
   "cell_type": "markdown",
   "metadata": {
    "deletable": false,
    "editable": false,
    "run_control": {
     "frozen": true
    }
   },
   "source": [
    "**Complexité :** Cette opération est \"une opération élémentaire\" (voir le complément de cours pour plus d'information). On considère que sa complexité est $O(1)$."
   ]
  },
  {
   "cell_type": "markdown",
   "metadata": {
    "deletable": false,
    "editable": false,
    "run_control": {
     "frozen": true
    }
   },
   "source": [
    "### Insertion d'une valeur à un indice donné"
   ]
  },
  {
   "cell_type": "markdown",
   "metadata": {
    "deletable": false,
    "editable": false,
    "run_control": {
     "frozen": true
    }
   },
   "source": [
    "Il est possible d'insérer une valeur `x` dans une liste `L` à l'indice `i` avec l'instruction `L.insert(i, x)`."
   ]
  },
  {
   "cell_type": "code",
   "execution_count": null,
   "metadata": {},
   "outputs": [],
   "source": [
    "# Exemple\n",
    "\n",
    "L = [12, 23, 34, 45]\n",
    "print(L)\n",
    "\n",
    "print(\"Insertion de la valeur 13 à l'indice 1 :\")\n",
    "L.insert(1, 13)\n",
    "print(L)"
   ]
  },
  {
   "cell_type": "markdown",
   "metadata": {
    "deletable": false,
    "editable": false,
    "run_control": {
     "frozen": true
    }
   },
   "source": [
    "**Complexité :** Cette opération nécessite de : \n",
    "* ajouter une case à la fin du tableau (avec `append`),\n",
    "* décaler tous les éléments d'une case vers la droite à partir de l'indice `i`,\n",
    "* insérer la valeur `x` à l'indice `i`.\n",
    "\n",
    "Dans le pire cas, correspondant à une insertion au début (`i` vaut 0), tous les éléments doivent être décalés d'une case sur la droite. Le décalage est une opération élémentaire donc si la taille du tableau est $n$, alors la complexité est $O(n)$ (complexité linéaire)."
   ]
  },
  {
   "cell_type": "markdown",
   "metadata": {
    "deletable": false,
    "editable": false,
    "run_control": {
     "frozen": true
    }
   },
   "source": [
    "**Sur ce thème :** Exercice 1 du TD."
   ]
  },
  {
   "cell_type": "markdown",
   "metadata": {
    "deletable": false,
    "editable": false,
    "run_control": {
     "frozen": true
    }
   },
   "source": [
    "### Suppression d'une valeur à un indice donné"
   ]
  },
  {
   "cell_type": "markdown",
   "metadata": {
    "deletable": false,
    "editable": false,
    "run_control": {
     "frozen": true
    }
   },
   "source": [
    "Il est possible de supprimer dans une liste `L` la valeur à l'indice `i` avec l'instruction `L.pop(i)`. Cette instruction retourne la valeur supprimée."
   ]
  },
  {
   "cell_type": "code",
   "execution_count": null,
   "metadata": {},
   "outputs": [],
   "source": [
    "# Exemple\n",
    "\n",
    "L = [12, 23, 34, 45]\n",
    "print(L)\n",
    "\n",
    "print(\"Suppression de la valeur à l'indice 2 :\")\n",
    "valeur = L.pop(2)\n",
    "print(\"Valeur supprimée :\", valeur)\n",
    "print(L)"
   ]
  },
  {
   "cell_type": "markdown",
   "metadata": {
    "deletable": false,
    "editable": false,
    "run_control": {
     "frozen": true
    }
   },
   "source": [
    "**Attention :** L'indice `i` doit être un indice valide du tableau sinon cela génère une erreur."
   ]
  },
  {
   "cell_type": "markdown",
   "metadata": {
    "deletable": false,
    "editable": false,
    "run_control": {
     "frozen": true
    }
   },
   "source": [
    "**Complexité :** Cette opération nécessite de : \n",
    "* décaler tous les éléments d'une case vers la gauche à partir de l'indice `i+1`,\n",
    "* supprimer la dernière valeur.\n",
    "\n",
    "Dans le pire cas, correspondant à une suppression au début (`i` vaut 0), tous les éléments doivent être décalés d'une case vers la gauche. Le décalage est une opération élémentaire donc si la taille du tableau est $n$, alors la complexité est $O(n)$ (complexité linéaire)."
   ]
  },
  {
   "cell_type": "markdown",
   "metadata": {
    "deletable": false,
    "editable": false,
    "run_control": {
     "frozen": true
    }
   },
   "source": [
    "**Sur ce thème :** Exercice 2 du TD."
   ]
  },
  {
   "cell_type": "markdown",
   "metadata": {
    "deletable": false,
    "editable": false,
    "run_control": {
     "frozen": true
    }
   },
   "source": [
    "### Copie d'une liste\n",
    "\n",
    "L'instruction `L.copy()` permet d'obtenir une copie de la liste `L`, c'est-à-dire une deuxième liste en mémoire contenant les mêmes valeurs que `L` dans le même ordre."
   ]
  },
  {
   "cell_type": "code",
   "execution_count": null,
   "metadata": {},
   "outputs": [],
   "source": [
    "# Exemple\n",
    "\n",
    "L = [12, 23, 34, 45]\n",
    "\n",
    "copie = L.copy()\n",
    "\n",
    "L[0] = 21\n",
    "print(L)\n",
    "print(copie)"
   ]
  },
  {
   "cell_type": "markdown",
   "metadata": {
    "deletable": false,
    "editable": false,
    "run_control": {
     "frozen": true
    }
   },
   "source": [
    "**Attention :** L'affectation `copie = L` ne crée pas une copie du tableau ! Les variables `copie` et `L` font référence au même tableau dans la mémoire."
   ]
  },
  {
   "cell_type": "markdown",
   "metadata": {
    "deletable": false,
    "editable": false,
    "run_control": {
     "frozen": true
    }
   },
   "source": [
    "**Complexité :** Cette opération nécessite de :\n",
    "* créer un tableau vide,\n",
    "* parcourir les éléments du tableau `L` et les ajouter au fur et à mesure dans le nouveau tableau.\n",
    "\n",
    "Chaque élément de `L` est ajouté à la fin du nouveau tableau (opération élémentaire). Si `L` contient $n$ éléments, alors la complexité est $O(n)$."
   ]
  },
  {
   "cell_type": "markdown",
   "metadata": {
    "deletable": false,
    "editable": false,
    "run_control": {
     "frozen": true
    }
   },
   "source": [
    "**Sur ce thème :** Exercice 3 du TD."
   ]
  },
  {
   "cell_type": "markdown",
   "metadata": {
    "deletable": false,
    "editable": false,
    "run_control": {
     "frozen": true
    }
   },
   "source": [
    "### Récapitulatif des opérations permises par le type `list`\n",
    "\n",
    "|**Opération**|**Syntaxe**|**Complexité**|\n",
    "|--|--|--|\n",
    "|Création d'une liste vide| `[]` | \t$O(1)$|\n",
    "|Lecture d'un élément| `x = L[i]` |\t$O(1)$|\n",
    "|Écriture d'un élément| `L[i] = x`| \t$O(1)$|\n",
    "| Connaître la taille de la liste | `len(L)` |$O(1)$| \n",
    "|Ajout d'un élément à la fin | `L.append(x)` |\t$O(1)$|\n",
    "| Suppression du dernier élément | `L.pop()` | $O(1)$ |\n",
    "|Insertion d'un élément à l'indice `i` | `L.insert(i,x)` |\t$O(n)$|\n",
    "| Suppression de l'élément d'indice `i` | `L.pop(i)` | $O(n)$ |\n",
    "|Copie d'une liste|\t`L2 = L.copy()`|\t $O(n)$|"
   ]
  },
  {
   "cell_type": "markdown",
   "metadata": {
    "deletable": false,
    "editable": false,
    "run_control": {
     "frozen": true
    }
   },
   "source": [
    "### Autres opérations sur les listes Python"
   ]
  },
  {
   "cell_type": "markdown",
   "metadata": {
    "deletable": false,
    "editable": false,
    "run_control": {
     "frozen": true
    }
   },
   "source": [
    "* `L.reverse()`: inverse les items d'une liste \n",
    "* `L.remove(x)` : supprime la première occurence de `x` (**attention :** génère une erreur si `x` n'est pas dans la liste).\n",
    "* `L.count(x)` : compte le nombre d'occurences d'une valeur `x`\n",
    "* `L.index(x)` : permet de connaître la position de l'item cherché `x` (**attention :** génère une erreur si `x` n'est pas dans la liste)\n",
    "* `L.sort()` : trie la liste `L`\n",
    "* `x in L` : vaut `True` si `x` est un élément de `L`, `False` sinon."
   ]
  },
  {
   "cell_type": "code",
   "execution_count": null,
   "metadata": {},
   "outputs": [],
   "source": [
    "# Exemple\n",
    "\n",
    "L = [1, -2, 0, 3, 0, -4, 0, 5]\n",
    "print(L)\n",
    "print(\"Inversion de la liste\")\n",
    "L.reverse()\n",
    "print(L)\n",
    "\n",
    "print(\"Nombre de 0 dans la liste :\", L.count(0))\n",
    "\n",
    "val = -2\n",
    "if val in L:\n",
    "    print(\"La première occurence de\", val, \"se trouve à l'indice\",\n",
    "          L.index(val))\n",
    "    print(\"On supprime cette première occurence !\")\n",
    "    L.remove(val)\n",
    "    print(L)\n",
    "else:\n",
    "    print(val, \"n'appartient pas à la liste\")\n",
    "\n",
    "print(\"Tri de la liste\")\n",
    "L.sort()\n",
    "print(L)"
   ]
  },
  {
   "cell_type": "markdown",
   "metadata": {
    "deletable": false,
    "editable": false,
    "run_control": {
     "frozen": true
    }
   },
   "source": [
    "## Compléments\n",
    "\n",
    "### Complexité des opérations d'insertion et suppression en fin de tableau\n",
    "\n",
    "Dans ce cours, l'insertion en fin de tableau est considérée comme une opération élémentaire. Ceci n'est pas complètement vrai. En effet, pour ajouter une case à la fin du tableau, il faut qu'il y ait de la place dans la RAM juste à côté du tableau puisque les valeurs sont contiguës. Si ce n'est pas le cas, il faut auparavant \"déplacer\" le tableau dans un autre endroit de la mémoire, c'est-à-dire créer une copie du tableau dans un endroit de la mémoire où il y a suffisamment de place et supprimer l'original. Cette opération de copie a une complexité linéaire, ce qui implique qu'ajouter une case à la fin d'un tableau a une complexité linéaire dans le pire cas.\n",
    "\n",
    "Pour éviter d'effectuer trop de copies lors d'insertions en fin de tableau, l'interpréteur réserve plus de place que nécessaire pour créer un tableau. Les premières insertions sont faites en temps constant puisqu'il y a de la place disponible. S'il faut effectuer une copie du tableau, l'interpréteur double la réservation de mémoire et les insertions suivantes seront en temps constant. De cette manière, il y a peu de copies en moyenne et l'on peut considérer l'insertion en fin de tableau comme une opération élémentaire (on parle de complexité amortie constante).\n",
    "\n",
    "\n",
    "Le code suivant montre l'évolution du temps moyen d'insertion en fin de tableau en fonction de la taille du tableau.\n"
   ]
  },
  {
   "cell_type": "code",
   "execution_count": null,
   "metadata": {},
   "outputs": [],
   "source": [
    "from time import time\n",
    "\n",
    "\n",
    "def mesure_insertion(n, nb_iter=50):\n",
    "    \"\"\"Mesure le temps d'insertion d'un élément suivant la taille du tableau.\n",
    "    \n",
    "    Retourne un tableau de taille n où la ième case indique le temps moyen en \n",
    "    millisecondes pour ajouter une case à la fin d'un tableau de taille i.\"\"\"\n",
    "    tps = []\n",
    "    i = 0\n",
    "    while i < n:\n",
    "        tps.append(0.)\n",
    "        i += 1\n",
    "\n",
    "    j = 0\n",
    "    while j < nb_iter:\n",
    "        t = []\n",
    "        i = 0\n",
    "        while i < n:\n",
    "            tic = time()\n",
    "            t.append(1)\n",
    "            tps[i] += time() - tic\n",
    "            i += 1\n",
    "        j += 1\n",
    "\n",
    "    i = 0\n",
    "    while i < n:\n",
    "        tps[i] *= 100 / nb_iter\n",
    "        i += 1\n",
    "    return tps"
   ]
  },
  {
   "cell_type": "code",
   "execution_count": null,
   "metadata": {},
   "outputs": [],
   "source": [
    "# Pour dessiner des courbes\n",
    "from matplotlib.pyplot import plot, show, legend, xlabel, ylabel"
   ]
  },
  {
   "cell_type": "code",
   "execution_count": null,
   "metadata": {
    "tags": [
     "keepOutput"
    ]
   },
   "outputs": [],
   "source": [
    "%matplotlib inline\n",
    "\n",
    "n = 100000\n",
    "tps = mesure_insertion(n)\n",
    "plot(list(range(n)), tps, \"b\", label=\"Insertion\")\n",
    "\n",
    "xlabel(\"Taille du tableau sur laquelle se fait l'insertion\")\n",
    "ylabel(\"Tps d'exécution d'ne insertion en millisecondes\")\n",
    "legend()"
   ]
  },
  {
   "cell_type": "markdown",
   "metadata": {
    "deletable": false,
    "editable": false,
    "run_control": {
     "frozen": true
    }
   },
   "source": [
    "La courbe montre le temps d'exécution moyen (pour 50 mesures) d'une insertion en fin de tableau lorsque la taille du tableau augmente. On remarque que la plupart du temps, le temps est négligeable. On a cependant quelques pics correspondant aux moments où une copie est nécessaire. Plus la taille du tableau augmente, moins il y a de copies lors d'une insertion mais chaque copie prend plus en plus de temps.\n",
    "\n",
    "\n",
    "De la même manière, lors de la suppression en fin de tableau, l'interpréteur peut faire une copie du tableau pour libérer de l'espace dans la mémoire. Cette suppression est aussi codée de manière à avoir une complexité amortie constante."
   ]
  },
  {
   "cell_type": "markdown",
   "metadata": {
    "deletable": false,
    "editable": false,
    "run_control": {
     "frozen": true
    }
   },
   "source": [
    "### Le type `array` du module `numpy`\n",
    "\n",
    "Le type `list` peut contenir différents types. Par exemple, `t = [10,8.6,\"coucou\"]`. De plus, les listes peuvent adapter leur capacité en fonction des besoins. Cette polyvalence se fait au prix d'une perte de performance. \n",
    "\n",
    "Il existe un type \"plus limité\" mais plus efficace, le type `array` appartenant au module NumPy (`import numpy`) qui permet de stocker uniquement des éléments de même type dans des tableaux éventuellement multidimensionnels. Cette restriction permet d'avoir d'avoir de meilleures performances. Le type `array` est adapté au calcul scientifique pour des données de grande taille."
   ]
  }
 ],
 "metadata": {
  "kernelspec": {
   "display_name": "Python 3",
   "language": "python",
   "name": "python3"
  },
  "language_info": {
   "codemirror_mode": {
    "name": "ipython",
    "version": 3
   },
   "file_extension": ".py",
   "mimetype": "text/x-python",
   "name": "python",
   "nbconvert_exporter": "python",
   "pygments_lexer": "ipython3",
   "version": "3.8.10"
  }
 },
 "nbformat": 4,
 "nbformat_minor": 5
}
