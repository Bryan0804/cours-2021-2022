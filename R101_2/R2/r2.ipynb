{
 "cells": [
  {
   "cell_type": "markdown",
   "id": "d831e265",
   "metadata": {
    "deletable": false,
    "editable": false,
    "run_control": {
     "frozen": true
    }
   },
   "source": [
    "# Révisions"
   ]
  },
  {
   "cell_type": "markdown",
   "id": "26e6ca5a",
   "metadata": {
    "deletable": false,
    "editable": false,
    "run_control": {
     "frozen": true
    }
   },
   "source": [
    "Le TP de révisions se divise en deux parties : \n",
    "- la première partie porte sur l'implémentation de la fonction de conversion d'une chaîne de caractères en un tableau de caractères et vice versa, ainsi que sur l'implémentation d'une fonction de tri ;\n",
    "- la deuxième partie porte sur l'utilisation des dictionnaires pour afficher certains anagrammes apparaissant dans le texte \"Le Horla\".\n",
    "\n",
    "Il est possible de commencer par la première partie ou de passer directement à la deuxième partie du TP suivant les notions que vous souhaitez réviser."
   ]
  },
  {
   "cell_type": "markdown",
   "id": "b662031f",
   "metadata": {
    "deletable": false,
    "editable": false,
    "run_control": {
     "frozen": true
    }
   },
   "source": [
    "## Partie 1"
   ]
  },
  {
   "cell_type": "markdown",
   "id": "25360764",
   "metadata": {
    "deletable": false,
    "editable": false,
    "run_control": {
     "frozen": true
    }
   },
   "source": [
    "### Question 1\n",
    "\n",
    "Définir la fonction `str_to_tab` prenant en paramètre une chaîne de caractères et retournant un tableau dont chaque case contient un caractère de la chaîne. Par exemple l'appel de la fonction `str_to_tab` avec la chaîne `\"hello\"` doit retourner le tableau `[\"h\", \"e\", \"l\", \"l\", \"o\"]`.\n",
    "\n",
    "Vérifier que la fonction passe les tests unitaires ci-dessous."
   ]
  },
  {
   "cell_type": "code",
   "execution_count": null,
   "id": "aaff1d9f",
   "metadata": {
    "tags": [
     "answer"
    ]
   },
   "outputs": [],
   "source": [
    "############################## \n",
    "#   Saisir votre code ici.   #\n",
    "##############################\n",
    "\n",
    "\n"
   ]
  },
  {
   "cell_type": "code",
   "execution_count": null,
   "id": "688aa363",
   "metadata": {},
   "outputs": [],
   "source": [
    "def test_str_to_tab():\n",
    "    assert str_to_tab(\"abc\") == [\"a\", \"b\", \"c\"]\n",
    "    assert str_to_tab(\"\") == []\n",
    "    assert str_to_tab(\"a\") == [\"a\"]\n",
    "    assert str_to_tab(\"aAaAbb\") == [\"a\", \"A\", \"a\", \"A\", \"b\", \"b\"]\n",
    "    print(\"test de la fonction str_to_tab : ok\")\n",
    "    \n",
    "test_str_to_tab()"
   ]
  },
  {
   "cell_type": "markdown",
   "id": "3c5c4f06",
   "metadata": {
    "deletable": false,
    "editable": false,
    "run_control": {
     "frozen": true
    }
   },
   "source": [
    "### Question 2\n",
    "\n",
    "Définir la fonction `tab_to_str` prenant en paramètre un tableau dont chaque case contient un caractère et retournant la chaîne de caractères obtenue par concaténation des caractères du tableau. Par exemple, l'appel de la fonction `tab_to_str` avec le tableau `[\"h\", \"e\", \"l\", \"l\", \"o\"]` doit retourner la chaîne `\"hello\"`.\n",
    "\n",
    "Vérifier que la fonction passe les tests unitaires ci-dessous."
   ]
  },
  {
   "cell_type": "code",
   "execution_count": null,
   "id": "4a2d39eb",
   "metadata": {
    "tags": [
     "answer"
    ]
   },
   "outputs": [],
   "source": [
    "############################## \n",
    "#   Saisir votre code ici.   #\n",
    "##############################\n",
    "\n",
    "\n"
   ]
  },
  {
   "cell_type": "code",
   "execution_count": null,
   "id": "8e26524e",
   "metadata": {},
   "outputs": [],
   "source": [
    "def test_tab_to_str():\n",
    "    assert tab_to_str([\"a\", \"b\", \"c\"]) == \"abc\"\n",
    "    assert tab_to_str([]) == \"\"\n",
    "    assert tab_to_str([\"a\"]) == \"a\"\n",
    "    assert tab_to_str([\"a\", \"A\", \"a\", \"A\", \"b\", \"b\"]) == \"aAaAbb\"\n",
    "    print(\"test de la fonction tab_to_str : ok\")\n",
    "    \n",
    "test_tab_to_str()"
   ]
  },
  {
   "cell_type": "markdown",
   "id": "6c992374",
   "metadata": {
    "deletable": false,
    "editable": false,
    "run_control": {
     "frozen": true
    }
   },
   "source": [
    "### Question 3\n",
    "\n",
    "Définir une fonction de tri (n'importe quel algorithme de tri) d'un tableau de caractères passé en paramètre. \n",
    "\n",
    "Vérifier que la fonction passe les tests unitaires ci-dessous."
   ]
  },
  {
   "cell_type": "code",
   "execution_count": null,
   "id": "e6cf1e93",
   "metadata": {
    "tags": [
     "answer"
    ]
   },
   "outputs": [],
   "source": [
    "############################## \n",
    "#   Saisir votre code ici.   #\n",
    "##############################\n",
    "\n",
    "\n"
   ]
  },
  {
   "cell_type": "code",
   "execution_count": null,
   "id": "cded4657",
   "metadata": {},
   "outputs": [],
   "source": [
    "def test_tri():\n",
    "    t = [\"b\", \"a\", \"a\"]\n",
    "    tri(t)\n",
    "    assert t == [\"a\", \"a\", \"b\"]\n",
    "    t = []\n",
    "    tri(t)\n",
    "    assert t == []\n",
    "    t = [\"b\", \"f\", \"a\", \"d\", \"e\", \"c\"]\n",
    "    tri(t)\n",
    "    assert t == [\"a\", \"b\", \"c\", \"d\", \"e\", \"f\"]\n",
    "    print(\"Test de la fonction tri : ok\")\n",
    "    \n",
    "test_tri()"
   ]
  },
  {
   "cell_type": "markdown",
   "id": "3cd06632",
   "metadata": {
    "deletable": false,
    "editable": false,
    "run_control": {
     "frozen": true
    }
   },
   "source": [
    "### Question 4\n",
    "\n",
    "Définir la fonction `str_sort` prenant en paramètre une chaîne de caractères et retournant une autre chaîne de caractères contenant les mêmes caractères que celle passée en paramètre mais triés. Par exemple, l'appel de la fonction `str_sort` avec la chaîne `\"bonjour\"` doit retourner la chaîne `\"bjnooru\"`.\n",
    "\n",
    "Vérifier que la fonction passe les tests unitaires ci-dessous."
   ]
  },
  {
   "cell_type": "code",
   "execution_count": null,
   "id": "610252b8",
   "metadata": {
    "tags": [
     "answer"
    ]
   },
   "outputs": [],
   "source": [
    "############################## \n",
    "#   Saisir votre code ici.   #\n",
    "##############################\n",
    "\n",
    "\n"
   ]
  },
  {
   "cell_type": "code",
   "execution_count": null,
   "id": "13ca86a1",
   "metadata": {},
   "outputs": [],
   "source": [
    "def test_str_sort():\n",
    "    assert str_sort(\"\") == \"\"\n",
    "    assert str_sort(\"abcba\") == \"aabbc\"\n",
    "    assert str_sort(\"abc\") == \"abc\"\n",
    "    assert str_sort(\"fcaedb\") == \"abcdef\"\n",
    "    print(\"Test de la fonction str_sort : ok\")\n",
    "    \n",
    "test_str_sort()"
   ]
  },
  {
   "cell_type": "markdown",
   "id": "3eedf8a4",
   "metadata": {
    "deletable": false,
    "editable": false,
    "run_control": {
     "frozen": true
    }
   },
   "source": [
    "## Partie 2\n",
    "\n",
    "On suppose que l'on a la fonction `str_sort` qui prend une chaîne de caractères et retourne la chaîne triée (Question 4 de la partie 1).\n",
    "Si vous n'avez pas fait la partie 1, vous pouvez prendre le code suivant pour la fonction `str_sort` : \n",
    "\n",
    "```python\n",
    "def str_sort(s):\n",
    "    l = list(s) # Crée un tableau à partir de la chaîne de caractères s\n",
    "    l.sort() # Tri le tableau\n",
    "    return \"\".join(l) # Crée la chaîne de caractères par concaténation des caractères du tableau l\n",
    "```\n"
   ]
  },
  {
   "cell_type": "markdown",
   "id": "4f0f6646",
   "metadata": {
    "deletable": false,
    "editable": false,
    "run_control": {
     "frozen": true
    }
   },
   "source": [
    "### Question 1\n",
    "\n",
    "Définir la fonction `dico_anagrammes` prenant en paramètre un tableau de mots. La fonction doit construire un dictionnaire et le retourner. Le dictionnaire est défini à partir du tableau de mots passé en paramètre : \n",
    "- les clés sont les chaînes de caractères correspondant aux mots mais triées dans l'ordre alphabétique ; \n",
    "- les valeurs sont des tableaux contenant tous les anagrammes de la clé trouvés dans le tableau de mots.\n",
    "\n",
    "Par exemple, si la fonction est appelée avec le tableau de mots :\n",
    "```python\n",
    "[\"chine\", \"romain\", \"manoir\", \"chien\", \"chat\", \"niche\", \"souris\"]\n",
    "```\n",
    "la fonction doit retourner le dictionnaire suivant \n",
    "```python\n",
    "{\n",
    "   \"cehin\": [\"chine\", \"chien\", \"niche\"], \n",
    "   \"aimnor\": [\"romain\", \"manoir\"],\n",
    "   \"acht\": [\"chat\"], \n",
    "   \"iorssu\": [\"souris\"]\n",
    "}\n",
    "```\n",
    "\n",
    "**Attention :** l'ordre des mots dans les tableaux correspondant aux valeurs du dictionnaire n'a pas d'importance. Dans l'exemple, le dictionnaire retourné pourrait aussi être :\n",
    "```python\n",
    "{\n",
    "   \"cehin\": [\"chien\", \"chine\", \"niche\"], \n",
    "   \"aimnor\": [\"manoir\", \"romain\"],\n",
    "   \"acht\": [\"chat\"], \n",
    "   \"iorssu\": [\"souris\"]\n",
    "}\n",
    "```\n",
    "\n",
    "Vérifier que la fonction passe les tests unitaires ci-dessous."
   ]
  },
  {
   "cell_type": "code",
   "execution_count": 1,
   "id": "5b7eded3",
   "metadata": {
    "tags": [
     "answer"
    ]
   },
   "outputs": [],
   "source": [
    "def dico_anagrammes():\n",
    "    mots = [\"chine\", \"romain\", \"manoir\", \"chien\", \"chat\", \"niche\", \"souris\"]\n",
    "    expected = {\n",
    "       \"cehin\": [\"chien\", \"chine\", \"niche\"], \n",
    "       \"aimnor\": [\"manoir\", \"romain\"],\n",
    "       \"acht\": [\"chat\"], \n",
    "       \"iorssu\": [\"souris\"]\n",
    "    }\n",
    "    obtained = dico_anagrammes(mots)"
   ]
  },
  {
   "cell_type": "code",
   "execution_count": 2,
   "id": "c07cbf63",
   "metadata": {},
   "outputs": [
    {
     "ename": "TypeError",
     "evalue": "dico_anagrammes() takes 0 positional arguments but 1 was given",
     "output_type": "error",
     "traceback": [
      "\u001b[0;31m---------------------------------------------------------------------------\u001b[0m",
      "\u001b[0;31mTypeError\u001b[0m                                 Traceback (most recent call last)",
      "\u001b[0;32m/tmp/ipykernel_19112/1808689699.py\u001b[0m in \u001b[0;36m<module>\u001b[0;34m\u001b[0m\n\u001b[1;32m     19\u001b[0m     \u001b[0mprint\u001b[0m\u001b[0;34m(\u001b[0m\u001b[0;34m\"Test de la fonction dico_anagrammes : ok\"\u001b[0m\u001b[0;34m)\u001b[0m\u001b[0;34m\u001b[0m\u001b[0;34m\u001b[0m\u001b[0m\n\u001b[1;32m     20\u001b[0m \u001b[0;34m\u001b[0m\u001b[0m\n\u001b[0;32m---> 21\u001b[0;31m \u001b[0mtest_dico_anagrammes\u001b[0m\u001b[0;34m(\u001b[0m\u001b[0;34m)\u001b[0m\u001b[0;34m\u001b[0m\u001b[0;34m\u001b[0m\u001b[0m\n\u001b[0m",
      "\u001b[0;32m/tmp/ipykernel_19112/1808689699.py\u001b[0m in \u001b[0;36mtest_dico_anagrammes\u001b[0;34m()\u001b[0m\n\u001b[1;32m      7\u001b[0m        \u001b[0;34m\"iorssu\"\u001b[0m\u001b[0;34m:\u001b[0m \u001b[0;34m[\u001b[0m\u001b[0;34m\"souris\"\u001b[0m\u001b[0;34m]\u001b[0m\u001b[0;34m\u001b[0m\u001b[0;34m\u001b[0m\u001b[0m\n\u001b[1;32m      8\u001b[0m     }\n\u001b[0;32m----> 9\u001b[0;31m     \u001b[0mobtained\u001b[0m \u001b[0;34m=\u001b[0m \u001b[0mdico_anagrammes\u001b[0m\u001b[0;34m(\u001b[0m\u001b[0mmots\u001b[0m\u001b[0;34m)\u001b[0m\u001b[0;34m\u001b[0m\u001b[0;34m\u001b[0m\u001b[0m\n\u001b[0m\u001b[1;32m     10\u001b[0m \u001b[0;34m\u001b[0m\u001b[0m\n\u001b[1;32m     11\u001b[0m     \u001b[0;31m# On trie les tableaux correspondant aux valeurs du dictionnaire pour pouvoir ensuite comparer si ce sont\u001b[0m\u001b[0;34m\u001b[0m\u001b[0;34m\u001b[0m\u001b[0m\n",
      "\u001b[0;31mTypeError\u001b[0m: dico_anagrammes() takes 0 positional arguments but 1 was given"
     ]
    }
   ],
   "source": [
    "def test_dico_anagrammes():\n",
    "    mots = [\"chine\", \"romain\", \"manoir\", \"chien\", \"chat\", \"niche\", \"souris\"]\n",
    "    expected = {\n",
    "       \"cehin\": [\"chien\", \"chine\", \"niche\"], \n",
    "       \"aimnor\": [\"manoir\", \"romain\"],\n",
    "       \"acht\": [\"chat\"], \n",
    "       \"iorssu\": [\"souris\"]\n",
    "    }\n",
    "    obtained = dico_anagrammes(mots)\n",
    "    \n",
    "    # On trie les tableaux correspondant aux valeurs du dictionnaire pour pouvoir ensuite comparer si ce sont \n",
    "    # les mêmes que ceux attendus (déjà triés dans l'ordre)\n",
    "    cles = list(obtained)\n",
    "    i = 0\n",
    "    while i < len(cles):\n",
    "        obtained[cles[i]].sort()\n",
    "        i += 1\n",
    "    assert obtained == expected\n",
    "    print(\"Test de la fonction dico_anagrammes : ok\")\n",
    "    \n",
    "test_dico_anagrammes()    "
   ]
  },
  {
   "cell_type": "markdown",
   "id": "31d869cd",
   "metadata": {
    "deletable": false,
    "editable": false,
    "run_control": {
     "frozen": true
    }
   },
   "source": [
    "### Question 2\n",
    "\n",
    "Définir la fonction `nb_anagrammes` qui retourne le nombre d'anagrammes dans le dictionnaire, c'est-à-dire le nombre de mots ayant au moins un anagramme dans le dictionnaire. \n",
    "\n",
    "L'appel de la fonction `nb_anagrammes` avec le dictionnaire\n",
    "```python\n",
    "{\n",
    "   \"cehin\": [\"chien\", \"chine\", \"niche\"], \n",
    "   \"aimnor\": [\"manoir\", \"romain\"],\n",
    "   \"acht\": [\"chat\"], \n",
    "   \"iorssu\": [\"souris\"]\n",
    "}\n",
    "```\n",
    "doit retourner 5 car sur les 7 mots du dictionnaire, seuls les mots `chat` et `souris` n'ont pas d'anagrammes.\n",
    "\n",
    "Vérifier que la fonction passe les tests unitaires ci-dessous."
   ]
  },
  {
   "cell_type": "code",
   "execution_count": 3,
   "id": "a56fc684",
   "metadata": {
    "tags": [
     "answer"
    ]
   },
   "outputs": [
    {
     "ename": "NameError",
     "evalue": "name 'nb_anagrammes' is not defined",
     "output_type": "error",
     "traceback": [
      "\u001b[0;31m---------------------------------------------------------------------------\u001b[0m",
      "\u001b[0;31mNameError\u001b[0m                                 Traceback (most recent call last)",
      "\u001b[0;32m/tmp/ipykernel_19112/940272987.py\u001b[0m in \u001b[0;36m<module>\u001b[0;34m\u001b[0m\n\u001b[1;32m      9\u001b[0m     \u001b[0mprint\u001b[0m\u001b[0;34m(\u001b[0m\u001b[0;34m\"Test de la fonction nb_anagrammes : ok\"\u001b[0m\u001b[0;34m)\u001b[0m\u001b[0;34m\u001b[0m\u001b[0;34m\u001b[0m\u001b[0m\n\u001b[1;32m     10\u001b[0m \u001b[0;34m\u001b[0m\u001b[0m\n\u001b[0;32m---> 11\u001b[0;31m \u001b[0mtest_nb_anagrammes\u001b[0m\u001b[0;34m(\u001b[0m\u001b[0;34m)\u001b[0m\u001b[0;34m\u001b[0m\u001b[0;34m\u001b[0m\u001b[0m\n\u001b[0m",
      "\u001b[0;32m/tmp/ipykernel_19112/940272987.py\u001b[0m in \u001b[0;36mtest_nb_anagrammes\u001b[0;34m()\u001b[0m\n\u001b[1;32m      6\u001b[0m        \u001b[0;34m\"iorssu\"\u001b[0m\u001b[0;34m:\u001b[0m \u001b[0;34m[\u001b[0m\u001b[0;34m\"souris\"\u001b[0m\u001b[0;34m]\u001b[0m\u001b[0;34m\u001b[0m\u001b[0;34m\u001b[0m\u001b[0m\n\u001b[1;32m      7\u001b[0m     }\n\u001b[0;32m----> 8\u001b[0;31m     \u001b[0;32massert\u001b[0m \u001b[0mnb_anagrammes\u001b[0m\u001b[0;34m(\u001b[0m\u001b[0mdico\u001b[0m\u001b[0;34m)\u001b[0m \u001b[0;34m==\u001b[0m \u001b[0;36m5\u001b[0m\u001b[0;34m\u001b[0m\u001b[0;34m\u001b[0m\u001b[0m\n\u001b[0m\u001b[1;32m      9\u001b[0m     \u001b[0mprint\u001b[0m\u001b[0;34m(\u001b[0m\u001b[0;34m\"Test de la fonction nb_anagrammes : ok\"\u001b[0m\u001b[0;34m)\u001b[0m\u001b[0;34m\u001b[0m\u001b[0;34m\u001b[0m\u001b[0m\n\u001b[1;32m     10\u001b[0m \u001b[0;34m\u001b[0m\u001b[0m\n",
      "\u001b[0;31mNameError\u001b[0m: name 'nb_anagrammes' is not defined"
     ]
    }
   ],
   "source": [
    "def test_nb_anagrammes():\n",
    "    dico = {\n",
    "       \"cehin\": [\"chien\", \"chine\", \"niche\"], \n",
    "       \"aimnor\": [\"manoir\", \"romain\"],\n",
    "       \"acht\": [\"chat\"], \n",
    "       \"iorssu\": [\"souris\"]\n",
    "    }\n",
    "    assert nb_anagrammes(dico) == 5\n",
    "    print(\"Test de la fonction nb_anagrammes : ok\")\n",
    "    \n",
    "test_nb_anagrammes()"
   ]
  },
  {
   "cell_type": "code",
   "execution_count": 4,
   "id": "96f6feec",
   "metadata": {},
   "outputs": [
    {
     "ename": "NameError",
     "evalue": "name 'nb_anagrammes' is not defined",
     "output_type": "error",
     "traceback": [
      "\u001b[0;31m---------------------------------------------------------------------------\u001b[0m",
      "\u001b[0;31mNameError\u001b[0m                                 Traceback (most recent call last)",
      "\u001b[0;32m/tmp/ipykernel_19112/940272987.py\u001b[0m in \u001b[0;36m<module>\u001b[0;34m\u001b[0m\n\u001b[1;32m      9\u001b[0m     \u001b[0mprint\u001b[0m\u001b[0;34m(\u001b[0m\u001b[0;34m\"Test de la fonction nb_anagrammes : ok\"\u001b[0m\u001b[0;34m)\u001b[0m\u001b[0;34m\u001b[0m\u001b[0;34m\u001b[0m\u001b[0m\n\u001b[1;32m     10\u001b[0m \u001b[0;34m\u001b[0m\u001b[0m\n\u001b[0;32m---> 11\u001b[0;31m \u001b[0mtest_nb_anagrammes\u001b[0m\u001b[0;34m(\u001b[0m\u001b[0;34m)\u001b[0m\u001b[0;34m\u001b[0m\u001b[0;34m\u001b[0m\u001b[0m\n\u001b[0m",
      "\u001b[0;32m/tmp/ipykernel_19112/940272987.py\u001b[0m in \u001b[0;36mtest_nb_anagrammes\u001b[0;34m()\u001b[0m\n\u001b[1;32m      6\u001b[0m        \u001b[0;34m\"iorssu\"\u001b[0m\u001b[0;34m:\u001b[0m \u001b[0;34m[\u001b[0m\u001b[0;34m\"souris\"\u001b[0m\u001b[0;34m]\u001b[0m\u001b[0;34m\u001b[0m\u001b[0;34m\u001b[0m\u001b[0m\n\u001b[1;32m      7\u001b[0m     }\n\u001b[0;32m----> 8\u001b[0;31m     \u001b[0;32massert\u001b[0m \u001b[0mnb_anagrammes\u001b[0m\u001b[0;34m(\u001b[0m\u001b[0mdico\u001b[0m\u001b[0;34m)\u001b[0m \u001b[0;34m==\u001b[0m \u001b[0;36m5\u001b[0m\u001b[0;34m\u001b[0m\u001b[0;34m\u001b[0m\u001b[0m\n\u001b[0m\u001b[1;32m      9\u001b[0m     \u001b[0mprint\u001b[0m\u001b[0;34m(\u001b[0m\u001b[0;34m\"Test de la fonction nb_anagrammes : ok\"\u001b[0m\u001b[0;34m)\u001b[0m\u001b[0;34m\u001b[0m\u001b[0;34m\u001b[0m\u001b[0m\n\u001b[1;32m     10\u001b[0m \u001b[0;34m\u001b[0m\u001b[0m\n",
      "\u001b[0;31mNameError\u001b[0m: name 'nb_anagrammes' is not defined"
     ]
    }
   ],
   "source": [
    "def test_nb_anagrammes():\n",
    "    dico = {\n",
    "       \"cehin\": [\"chien\", \"chine\", \"niche\"], \n",
    "       \"aimnor\": [\"manoir\", \"romain\"],\n",
    "       \"acht\": [\"chat\"], \n",
    "       \"iorssu\": [\"souris\"]\n",
    "    }\n",
    "    assert nb_anagrammes(dico) == 5\n",
    "    print(\"Test de la fonction nb_anagrammes : ok\")\n",
    "    \n",
    "test_nb_anagrammes()"
   ]
  },
  {
   "cell_type": "markdown",
   "id": "2813396f",
   "metadata": {
    "deletable": false,
    "editable": false,
    "run_control": {
     "frozen": true
    }
   },
   "source": [
    "### Question 3\n",
    "\n",
    "Définir la fonction `maximum_anagrammes` prenant en paramètre un dictionnaire d'anagrammes (même structure de dictionnaire que dans la question 1) et retournant le nombre maximum d'anagrammes d'un même mot. Cela correspond à retourner la longueur maximum des tableaux correspondant aux valeurs du dictionnaire.\n",
    "\n",
    "Par exemple, l'appel de la fonction avec le dictionnaire \n",
    "```python\n",
    "{\n",
    "   \"cehin\": [\"chien\", \"chine\", \"niche\"], \n",
    "   \"aimnor\": [\"manoir\", \"romain\"],\n",
    "   \"acht\": [\"chat\"], \n",
    "   \"iorssu\": [\"souris\"],\n",
    "   \"acenrt\": [\"carnet\", \"encart\", \"nectar\"]\n",
    "}\n",
    "```\n",
    "doit retourner 3. \n",
    "\n",
    "\n",
    "Vérifier que la fonction passe les tests unitaires ci-dessous."
   ]
  },
  {
   "cell_type": "code",
   "execution_count": 7,
   "id": "907864b1",
   "metadata": {
    "tags": [
     "answer"
    ]
   },
   "outputs": [
    {
     "data": {
      "text/plain": [
       "3"
      ]
     },
     "execution_count": 7,
     "metadata": {},
     "output_type": "execute_result"
    }
   ],
   "source": [
    "def maximum_anagrammes(dico ):\n",
    "    maximum = 0\n",
    "    for liste_anag in dico.values():\n",
    "        if len(liste_anag) > maximum:\n",
    "            maximum = len(liste_anag)\n",
    "        return maximum\n",
    "dico = {\n",
    "   \"cehin\": [\"chien\", \"chine\", \"niche\"], \n",
    "   \"aimnor\": [\"manoir\", \"romain\"],\n",
    "   \"acht\": [\"chat\"], \n",
    "   \"iorssu\": [\"souris\"],\n",
    "   \"acenrt\": [\"carnet\", \"encart\", \"nectar\"]\n",
    "}\n",
    "\n",
    "maximum_anagrammes(dico)\n",
    "    "
   ]
  },
  {
   "cell_type": "code",
   "execution_count": 5,
   "id": "b060d2cc",
   "metadata": {},
   "outputs": [
    {
     "ename": "NameError",
     "evalue": "name 'maximum_anagrammes' is not defined",
     "output_type": "error",
     "traceback": [
      "\u001b[0;31m---------------------------------------------------------------------------\u001b[0m",
      "\u001b[0;31mNameError\u001b[0m                                 Traceback (most recent call last)",
      "\u001b[0;32m/tmp/ipykernel_19112/3188856491.py\u001b[0m in \u001b[0;36m<module>\u001b[0;34m\u001b[0m\n\u001b[1;32m     10\u001b[0m     \u001b[0mprint\u001b[0m\u001b[0;34m(\u001b[0m\u001b[0;34m\"Test de la fonction maximum anagrammes : ok\"\u001b[0m\u001b[0;34m)\u001b[0m\u001b[0;34m\u001b[0m\u001b[0;34m\u001b[0m\u001b[0m\n\u001b[1;32m     11\u001b[0m \u001b[0;34m\u001b[0m\u001b[0m\n\u001b[0;32m---> 12\u001b[0;31m \u001b[0mtest_maximum_anagrammes\u001b[0m\u001b[0;34m(\u001b[0m\u001b[0;34m)\u001b[0m\u001b[0;34m\u001b[0m\u001b[0;34m\u001b[0m\u001b[0m\n\u001b[0m",
      "\u001b[0;32m/tmp/ipykernel_19112/3188856491.py\u001b[0m in \u001b[0;36mtest_maximum_anagrammes\u001b[0;34m()\u001b[0m\n\u001b[1;32m      7\u001b[0m        \u001b[0;34m\"acenrt\"\u001b[0m\u001b[0;34m:\u001b[0m \u001b[0;34m[\u001b[0m\u001b[0;34m\"carnet\"\u001b[0m\u001b[0;34m,\u001b[0m \u001b[0;34m\"encart\"\u001b[0m\u001b[0;34m,\u001b[0m \u001b[0;34m\"nectar\"\u001b[0m\u001b[0;34m]\u001b[0m\u001b[0;34m\u001b[0m\u001b[0;34m\u001b[0m\u001b[0m\n\u001b[1;32m      8\u001b[0m     }\n\u001b[0;32m----> 9\u001b[0;31m     \u001b[0;32massert\u001b[0m \u001b[0mmaximum_anagrammes\u001b[0m\u001b[0;34m(\u001b[0m\u001b[0mdico\u001b[0m\u001b[0;34m)\u001b[0m \u001b[0;34m==\u001b[0m \u001b[0;36m3\u001b[0m\u001b[0;34m\u001b[0m\u001b[0;34m\u001b[0m\u001b[0m\n\u001b[0m\u001b[1;32m     10\u001b[0m     \u001b[0mprint\u001b[0m\u001b[0;34m(\u001b[0m\u001b[0;34m\"Test de la fonction maximum anagrammes : ok\"\u001b[0m\u001b[0;34m)\u001b[0m\u001b[0;34m\u001b[0m\u001b[0;34m\u001b[0m\u001b[0m\n\u001b[1;32m     11\u001b[0m \u001b[0;34m\u001b[0m\u001b[0m\n",
      "\u001b[0;31mNameError\u001b[0m: name 'maximum_anagrammes' is not defined"
     ]
    }
   ],
   "source": [
    "def test_maximum_anagrammes():\n",
    "    dico = {\n",
    "       \"cehin\": [\"chien\", \"chine\", \"niche\"], \n",
    "       \"aimnor\": [\"manoir\", \"romain\"],\n",
    "       \"acht\": [\"chat\"], \n",
    "       \"iorssu\": [\"souris\"],\n",
    "       \"acenrt\": [\"carnet\", \"encart\", \"nectar\"]\n",
    "    }\n",
    "    assert maximum_anagrammes(dico) == 3\n",
    "    print(\"Test de la fonction maximum anagrammes : ok\")\n",
    "    \n",
    "test_maximum_anagrammes()"
   ]
  },
  {
   "cell_type": "markdown",
   "id": "a17f2090",
   "metadata": {
    "deletable": false,
    "editable": false,
    "run_control": {
     "frozen": true
    }
   },
   "source": [
    "### Question 4\n",
    "\n",
    "Définir la fonction `anagrammes_maximum` prenant en paramètre un dictionnaire d'anagrammes et retournant un tableau de tableaux correspondant aux différents ensembles d'anagrammes de cardinalité maximum.\n",
    "\n",
    "Par exemple, l'appel de la fonction avec le dictionnaire\n",
    "```python\n",
    "{\n",
    "   \"cehin\": [\"chien\", \"chine\", \"niche\"], \n",
    "   \"aimnor\": [\"manoir\", \"romain\"],\n",
    "   \"acht\": [\"chat\"], \n",
    "   \"iorssu\": [\"souris\"],\n",
    "   \"acenrt\": [\"carnet\", \"encart\", \"nectar\"]\n",
    "}\n",
    "```\n",
    "doit retourner\n",
    "```python\n",
    "[\n",
    "    [\"carnet\", \"encart\", \"nectar\"],\n",
    "    [\"chien\", \"chine\", \"niche\"]\n",
    "]\n",
    "```\n",
    "car le nombre maximum d'anagrammes d'un même mot dans le dictionnaire est 3, et il existe deux ensembles de  3 mots formant des anagrammes d'un même mot.\n",
    "\n",
    "**Attention :** l'ordre des mots dans les tableaux n'a pas d'importance.\n",
    "\n",
    "\n",
    "Vérifier que la fonction passe les tests unitaires ci-dessous."
   ]
  },
  {
   "cell_type": "code",
   "execution_count": null,
   "id": "7468d9de",
   "metadata": {
    "tags": [
     "answer"
    ]
   },
   "outputs": [],
   "source": [
    "def anagrammes_maximum(dicoo):\n",
    "    \n",
    "\n",
    "\n",
    "\n",
    "\n",
    "\n",
    "\n",
    "dicoo:{\n",
    "   \"cehin\": [\"chien\", \"chine\", \"niche\"], \n",
    "   \"aimnor\": [\"manoir\", \"romain\"],\n",
    "   \"acht\": [\"chat\"], \n",
    "   \"iorssu\": [\"souris\"],\n",
    "   \"acenrt\": [\"carnet\", \"encart\", \"nectar\"]\n",
    "}\n",
    "    \n",
    "    \n",
    "anagrammes_maximum(dicoo)"
   ]
  },
  {
   "cell_type": "code",
   "execution_count": null,
   "id": "4dfbc703",
   "metadata": {},
   "outputs": [],
   "source": [
    "def test_anagrammes_maximum():\n",
    "    dico = {\n",
    "       \"cehin\": [\"chien\", \"chine\", \"niche\"], \n",
    "       \"aimnor\": [\"manoir\", \"romain\"],\n",
    "       \"acht\": [\"chat\"], \n",
    "       \"iorssu\": [\"souris\"],\n",
    "       \"acenrt\": [\"carnet\", \"encart\", \"nectar\"]\n",
    "    }\n",
    "    expected = [\n",
    "        [\"carnet\", \"encart\", \"nectar\"],\n",
    "        [\"chien\", \"chine\", \"niche\"]\n",
    "    ]\n",
    "    res = anagrammes_maximum(dico)\n",
    "    res.sort()\n",
    "    assert res == expected\n",
    "    print(\"Test de la fonction anagrammes_maximum : ok\")\n",
    "    \n",
    "test_anagrammes_maximum()"
   ]
  },
  {
   "cell_type": "markdown",
   "id": "95453cb4",
   "metadata": {
    "deletable": false,
    "editable": false,
    "run_control": {
     "frozen": true
    }
   },
   "source": [
    "### Question 5\n",
    "\n",
    "Déterminer le nombre total d'anagrammes dans le horla et afficher la liste de ses anagrammes maximum.\n",
    "\n",
    "**Remarque :** Le fichier `le_horla.json` contenant la liste des mots (tableau de chaînes de caractères) du roman *Le Horla* se trouve dans le répertoire `../7_table_hachage/data/`."
   ]
  },
  {
   "cell_type": "code",
   "execution_count": null,
   "id": "37ecfaf4",
   "metadata": {
    "tags": [
     "answer"
    ]
   },
   "outputs": [],
   "source": [
    "############################## \n",
    "#   Saisir votre code ici.   #\n",
    "##############################\n",
    "\n",
    "\n"
   ]
  }
 ],
 "metadata": {
  "kernelspec": {
   "display_name": "Python 3 (ipykernel)",
   "language": "python",
   "name": "python3"
  },
  "language_info": {
   "codemirror_mode": {
    "name": "ipython",
    "version": 3
   },
   "file_extension": ".py",
   "mimetype": "text/x-python",
   "name": "python",
   "nbconvert_exporter": "python",
   "pygments_lexer": "ipython3",
   "version": "3.9.7"
  }
 },
 "nbformat": 4,
 "nbformat_minor": 5
}
