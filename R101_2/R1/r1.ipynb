{
 "cells": [
  {
   "cell_type": "markdown",
   "metadata": {
    "deletable": false,
    "editable": false,
    "run_control": {
     "frozen": true
    }
   },
   "source": [
    "# Révisions 1"
   ]
  },
  {
   "cell_type": "markdown",
   "metadata": {
    "deletable": false,
    "editable": false,
    "run_control": {
     "frozen": true
    }
   },
   "source": [
    "## Compression de tableaux\n",
    "\n",
    "Un tableau de 0 et de 1 (par exemple un tableau encodant une image en noir est blanc) peut être compressé en indiquant le nombre de 0 consécutifs suivi du nombre de 1 consécutifs, etc.\n",
    "Par exemple, le tableau \n",
    "```python\n",
    "[ 0, 0, 0, 1, 0, 0, 0, 0, 0, 0, 1, 1, 1, 1, 0, 0, 1, 1, 1, 1, 1, 1, 1, 1]\n",
    "```\n",
    "peut être compressé en le tableau :\n",
    "```python\n",
    "[3, 1, 6, 4, 2, 8]\n",
    "```\n",
    "\n",
    "### Question 1\n",
    "\n",
    "Définir la fonction `compression` prenant en paramètre un tableau de 0 et 1 et retournant un tableau correspondant à la compression de ce tableau. Vérifiez que votre fonction passe les tests unitaires ci-dessous."
   ]
  },
  {
   "cell_type": "code",
   "execution_count": 7,
   "metadata": {
    "tags": [
     "answer"
    ]
   },
   "outputs": [
    {
     "ename": "NameError",
     "evalue": "name 't' is not defined",
     "output_type": "error",
     "traceback": [
      "\u001b[0;31m---------------------------------------------------------------------------\u001b[0m",
      "\u001b[0;31mNameError\u001b[0m                                 Traceback (most recent call last)",
      "\u001b[0;32m<ipython-input-7-552b13d27dec>\u001b[0m in \u001b[0;36m<module>\u001b[0;34m\u001b[0m\n\u001b[1;32m      4\u001b[0m \u001b[0;34m\u001b[0m\u001b[0m\n\u001b[1;32m      5\u001b[0m \u001b[0mi\u001b[0m\u001b[0;34m=\u001b[0m\u001b[0;36m0\u001b[0m\u001b[0;34m\u001b[0m\u001b[0;34m\u001b[0m\u001b[0m\n\u001b[0;32m----> 6\u001b[0;31m \u001b[0;32mwhile\u001b[0m \u001b[0mi\u001b[0m \u001b[0;34m<\u001b[0m \u001b[0mlen\u001b[0m\u001b[0;34m(\u001b[0m\u001b[0mt\u001b[0m\u001b[0;34m)\u001b[0m\u001b[0;34m:\u001b[0m\u001b[0;34m\u001b[0m\u001b[0;34m\u001b[0m\u001b[0m\n\u001b[0m\u001b[1;32m      7\u001b[0m     \u001b[0;32mwhile\u001b[0m \u001b[0mt\u001b[0m\u001b[0;34m[\u001b[0m\u001b[0mi\u001b[0m\u001b[0;34m]\u001b[0m \u001b[0;34m==\u001b[0m \u001b[0mbit\u001b[0m\u001b[0;34m:\u001b[0m\u001b[0;34m\u001b[0m\u001b[0;34m\u001b[0m\u001b[0m\n\u001b[1;32m      8\u001b[0m         \u001b[0mcompte_bits\u001b[0m \u001b[0;34m=\u001b[0m\u001b[0;36m0\u001b[0m\u001b[0;34m\u001b[0m\u001b[0;34m\u001b[0m\u001b[0m\n",
      "\u001b[0;31mNameError\u001b[0m: name 't' is not defined"
     ]
    }
   ],
   "source": [
    "def compression(t1):\n",
    "    t2 =[]\n",
    "    bit = 0\n",
    "    \n",
    "i=0\n",
    "while i < len(t):\n",
    "    while t[i] == bit:\n",
    "        compte_bits =0\n",
    "        i += 1\n",
    "        tcompte.append(compte_bits)\n",
    "        bit = bit+1\n",
    "return tcompte\n",
    "\n",
    "\n",
    "t = [0,0,0,1,1,0,0,0,0]\n",
    "print(compression(t))"
   ]
  },
  {
   "cell_type": "code",
   "execution_count": null,
   "metadata": {},
   "outputs": [],
   "source": [
    "def test_compression():\n",
    "    assert compression([0, 0, 0, 0]) == [4]\n",
    "    assert compression([1, 1, 1, 1]) == [0, 4]\n",
    "    assert compression([ 0, 0, 0, 1, 0, 0, 0, 0, 0, 0, 1, 1, 1, 1, 0, 0, 1, 1, 1, 1, 1, 1, 1, 1]) == [3, 1, 6, 4, 2, 8]\n",
    "    print(\"Test de la fonction compression : ok\")\n",
    "    \n",
    "test_compression()"
   ]
  },
  {
   "cell_type": "markdown",
   "metadata": {
    "deletable": false,
    "editable": false,
    "run_control": {
     "frozen": true
    }
   },
   "source": [
    "### Question 2\n",
    "\n",
    "Quelle est la complexité asymptotique de cette fonction ?"
   ]
  },
  {
   "cell_type": "markdown",
   "metadata": {
    "deletable": false,
    "run_control": {
     "frozen": false
    },
    "tags": [
     "answer"
    ]
   },
   "source": [
    "**Réponse :** Écrire votre réponse ici.\n",
    "\n",
    "\n"
   ]
  },
  {
   "cell_type": "markdown",
   "metadata": {
    "deletable": false,
    "editable": false,
    "run_control": {
     "frozen": true
    }
   },
   "source": [
    "### Question 3\n",
    "\n",
    "Définir la fonction `decompression` prenant en paramètre un tableau compressé et retournant le tableau compressé (inverse de la fonction compression). Vérifiez que votre fonction vérifie les tests unitaires ci-dessous.\n"
   ]
  },
  {
   "cell_type": "code",
   "execution_count": null,
   "metadata": {
    "tags": [
     "answer"
    ]
   },
   "outputs": [],
   "source": [
    "def decompression(tcompte):\n",
    "    t =[]\n",
    "    ...\n",
    "    \n",
    "    return t"
   ]
  },
  {
   "cell_type": "code",
   "execution_count": null,
   "metadata": {},
   "outputs": [],
   "source": [
    "def test_decompression():\n",
    "    assert decompression([4]) == [0, 0, 0, 0]\n",
    "    assert decompression([0, 4]) == [1, 1, 1, 1]\n",
    "    assert decompression([3, 1, 6, 4, 2, 8]) == [ 0, 0, 0, 1, 0, 0, 0, 0, 0, 0, 1, 1, 1, 1, 0, 0, 1, 1, 1, 1, 1, 1, 1, 1]\n",
    "    \n",
    "    assert decompression(compression([0, 0, 1, 1, 1])) == [0, 0, 1, 1, 1]\n",
    "    print(\"Test de la fonction decompression : ok\")\n",
    "test_decompression()"
   ]
  },
  {
   "cell_type": "markdown",
   "metadata": {
    "deletable": false,
    "editable": false,
    "run_control": {
     "frozen": true
    }
   },
   "source": [
    "## Exercice 2\n",
    "\n",
    "La méthode de Condorcet est un système de vote dans lequel l'unique vainqueur, s'il existe, est le candidat qui, comparé tour à tour à chacun des autres candidats, s'avérerait à chaque fois être le candidat préféré. Un tel candidat est appelé vainqueur de Condorcet *(issu de wikipedia)*.\n",
    "\n",
    "On suppose que l'on a `k` candidats (numérotés de 0 à `k-1`) et `n` votants. Chaque votant établit un classement des candidats dans l'ordre décroissant de ses préférences. Ce choix sera représenté sous forme d'un tableau : la valeur de la case numéro $i$ indiquera la position du candidat numéro $i$ dans son ordre de préférence (valeur de 1 s'il est le candidat préféré à $k$ si c'est le pire choix du votant).\n",
    "\n",
    "Par exemple, si l'on a 3 candidats, un vote pourrait être `[3, 1, 2]` indiquant que le votant préfère le candidat numéro 1, puis le candidat numéro 2 puis le candidat numéro 0.\n",
    "\n",
    "L'ensemble des votes est stocké dans un tableau : chaque case est un tableau correspondant à un vote. Ainsi, si l'on a 3 candidats et 5 votants, l'ensemble des votes pourrait être :"
   ]
  },
  {
   "cell_type": "code",
   "execution_count": null,
   "metadata": {},
   "outputs": [],
   "source": [
    "votes = [\n",
    "    [2, 1, 3],\n",
    "    [1, 2, 3],\n",
    "    [2, 3, 1],\n",
    "    [2, 1, 3],\n",
    "    [3, 2, 1]\n",
    "]"
   ]
  },
  {
   "cell_type": "markdown",
   "metadata": {
    "deletable": false,
    "editable": false,
    "run_control": {
     "frozen": true
    }
   },
   "source": [
    "### Question 1\n",
    "\n",
    "Définir la fonction `voteValide` prenant en paramètre un vote (tableau avec les préférences des candidats d'un votant), et retournant `True` si ce vote est valide, et `False` sinon.\n",
    "\n",
    "Un vote est dit valide s'il définit un ordre total sur les candidats. Autrement dit, tous les entiers entre 1 et `k` doivent apparaître exactement une fois. Par exemple, l'appel de la fonction `voteValide` doit retourner\n",
    "`True` pour le vote `[2, 1, 3]`, et `False` pour les votes `[3, -1, 2]` et `[3, 3, 1]`.\n",
    "\n",
    "\n",
    "**Marche à suivre :** Pour être efficace, la fonction créera un tableau `nb` ayant `k` + 1 cases. Chaque case d'indice `i` sera initialisée à `False` et sera mise à `True` lorsque le nombre `i` sera rencontré dans le vote."
   ]
  },
  {
   "cell_type": "code",
   "execution_count": null,
   "metadata": {
    "tags": [
     "answer"
    ]
   },
   "outputs": [],
   "source": [
    "############################## \n",
    "#   Saisir votre code ici.   #\n",
    "##############################\n",
    "\n",
    "\n"
   ]
  },
  {
   "cell_type": "markdown",
   "metadata": {
    "deletable": false,
    "editable": false,
    "run_control": {
     "frozen": true
    }
   },
   "source": [
    "## Question 2\n",
    "Définir une fonction `ensVotesValide` prenant en paramètre un\n",
    "ensemble de votes et retournant `True` si tous les votes de\n",
    "l'ensemble sont valides, et `False` sinon."
   ]
  },
  {
   "cell_type": "code",
   "execution_count": null,
   "metadata": {
    "tags": [
     "answer"
    ]
   },
   "outputs": [],
   "source": [
    "############################## \n",
    "#   Saisir votre code ici.   #\n",
    "##############################\n",
    "\n",
    "\n"
   ]
  },
  {
   "cell_type": "markdown",
   "metadata": {
    "deletable": false,
    "editable": false,
    "run_control": {
     "frozen": true
    }
   },
   "source": [
    "### Question 3\n",
    "\n",
    "Définir une fonction `bat` prenant en paramètre un ensemble de votes et deux numéros de candidats et retournant `True` si le premier candidat bat le deuxième (est préféré par une majorité stricte des votants), et `False` sinon. Attention, en cas d'égalité, la fonction doit retourner `False`."
   ]
  },
  {
   "cell_type": "code",
   "execution_count": null,
   "metadata": {
    "tags": [
     "answer"
    ]
   },
   "outputs": [],
   "source": [
    "############################## \n",
    "#   Saisir votre code ici.   #\n",
    "##############################\n",
    "\n",
    "\n"
   ]
  },
  {
   "cell_type": "markdown",
   "metadata": {
    "deletable": false,
    "editable": false,
    "run_control": {
     "frozen": true
    }
   },
   "source": [
    "### Question 4\n",
    "\n",
    "Définir la fonction `estGagnant` prenant en paramètre un ensemble de votes et le numéro d'un candidat, et retournant `True` si ce candidat est le gagnant de Condorcet, et `False` sinon."
   ]
  },
  {
   "cell_type": "code",
   "execution_count": null,
   "metadata": {
    "tags": [
     "answer"
    ]
   },
   "outputs": [],
   "source": [
    "############################## \n",
    "#   Saisir votre code ici.   #\n",
    "##############################\n",
    "\n",
    "\n"
   ]
  },
  {
   "cell_type": "markdown",
   "metadata": {
    "deletable": false,
    "editable": false,
    "run_control": {
     "frozen": true
    }
   },
   "source": [
    "### Question 5\n",
    "\n",
    "Définir la fonction `gagnant` prenant en paramètre un ensemble de votes. La fonction retourne -1 si l'ensemble de votes est vide, s'il contient des votes non valides ou s'il n'y a pas de vainqueur de Condorcet. Il retourne sinon le numéro du vainqueur de Condorcet. Vérifier sur le tableau de votes `votes` défini en début d'exercice s'il existe un gagnant de Condorcet."
   ]
  },
  {
   "cell_type": "code",
   "execution_count": null,
   "metadata": {
    "tags": [
     "answer"
    ]
   },
   "outputs": [],
   "source": [
    "############################## \n",
    "#   Saisir votre code ici.   #\n",
    "##############################\n",
    "\n",
    "\n"
   ]
  }
 ],
 "metadata": {
  "kernelspec": {
   "display_name": "Python 3",
   "language": "python",
   "name": "python3"
  },
  "language_info": {
   "codemirror_mode": {
    "name": "ipython",
    "version": 3
   },
   "file_extension": ".py",
   "mimetype": "text/x-python",
   "name": "python",
   "nbconvert_exporter": "python",
   "pygments_lexer": "ipython3",
   "version": "3.8.10"
  }
 },
 "nbformat": 4,
 "nbformat_minor": 5
}
