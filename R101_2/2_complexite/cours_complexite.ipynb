{
 "cells": [
  {
   "cell_type": "markdown",
   "metadata": {
    "deletable": false,
    "editable": false,
    "run_control": {
     "frozen": true
    }
   },
   "source": [
    "# Cours : Complexité"
   ]
  },
  {
   "cell_type": "markdown",
   "metadata": {
    "deletable": false,
    "editable": false,
    "run_control": {
     "frozen": true
    }
   },
   "source": [
    "## Introduction\n",
    "De manière générale, un algorithme effectue un traitement sur des données.\n",
    "S'il produit le résultat escompté, on dit que l'algorithme est *correct*.\n",
    "Mais cela ne suffit pas. On veut que l'algorithme soit *efficace*, c'est-à-dire\n",
    "que le *temps de calcul* du résultat soit raisonnable.\n",
    "\n",
    "## Plusieurs chemins mènent à Rome, mais...\n",
    "\n",
    "Il y a souvent plusieurs façons d'arriver au résultat visé, autrement dit,\n",
    "plusieurs algorithmes pour résoudre un problème.\n",
    "\n",
    "On veut, par exemple, déplacer le premier élément d'un tableau pour le mettre à la fin.\n",
    "C'est ce qu'on appelle un *décalage circulaire*.\n",
    "\n",
    "**Exemple**\n",
    "* tableau de départ : `[1, 2, 3, 4, 5]` \n",
    "\n",
    "après le *décalage circulaire*\n",
    "\n",
    "* résultat : `[2, 3, 4, 5, 1]`"
   ]
  },
  {
   "cell_type": "markdown",
   "metadata": {
    "deletable": false,
    "editable": false,
    "run_control": {
     "frozen": true
    }
   },
   "source": [
    "### Première solution\n",
    "1. Échanger les 1er et 2e éléments,\n",
    "2. échanger les 2e et 3e,\n",
    "3. échanger les 3e et 4e,\n",
    "4. et ainsi de suite jusqu'au dernier élément."
   ]
  },
  {
   "cell_type": "code",
   "execution_count": 5,
   "metadata": {},
   "outputs": [
    {
     "name": "stdout",
     "output_type": "stream",
     "text": [
      "[2, 3, 4, 5, 1]\n"
     ]
    }
   ],
   "source": [
    "def decalage1(t):\n",
    "    i = 0\n",
    "    while i < len(t)-1:\n",
    "        tmp = t[i]\n",
    "        t[i] = t[i+1]\n",
    "        t[i+1] = tmp\n",
    "        i += 1\n",
    "    \n",
    "tab = [1,2,3,4,5]\n",
    "decalage1(tab)\n",
    "print(tab)"
   ]
  },
  {
   "cell_type": "markdown",
   "metadata": {
    "deletable": false,
    "editable": false,
    "run_control": {
     "frozen": true
    }
   },
   "source": [
    "### Deuxième solution\n",
    "1. Sauvegarder le premier élément du tableau dans une variable,\n",
    "2. décaler tous les éléments d'une case vers la gauche,\n",
    "3. écrire l'élément sauvegardé en dernière position."
   ]
  },
  {
   "cell_type": "code",
   "execution_count": 6,
   "metadata": {},
   "outputs": [
    {
     "name": "stdout",
     "output_type": "stream",
     "text": [
      "[2, 3, 4, 5, 1]\n"
     ]
    }
   ],
   "source": [
    "def decalage2(t):\n",
    "    tmp = t[0]\n",
    "    i = 0\n",
    "    while i < len(t)-1:\n",
    "        t[i] = t[i+1]\n",
    "        i += 1\n",
    "    t[len(t)-1] = tmp\n",
    "\n",
    "tab = [1,2,3,4,5]\n",
    "decalage2(tab)\n",
    "print(tab)"
   ]
  },
  {
   "cell_type": "markdown",
   "metadata": {
    "deletable": false,
    "editable": false,
    "run_control": {
     "frozen": true
    }
   },
   "source": [
    "Les deux approches sont correctes ; cependant, dans le cadre de ce cours, la question que l'on se pose est  \n",
    "<center>\"Lequel est le plus rapide ?\"</center>"
   ]
  },
  {
   "cell_type": "markdown",
   "metadata": {
    "deletable": false,
    "editable": false,
    "lines_to_next_cell": 0,
    "run_control": {
     "frozen": true
    }
   },
   "source": [
    "## Mesure des performances avec `time`\n",
    "\n",
    "Pour répondre de manière expérimentale à la question précédente, on peut comparer le temps d'exécution nécessaire à chaque algorithme pour des mêmes données en entrée.\n",
    "\n",
    "Pour cela, on crée une fonction `gen_tab_alea` qui retourne un tableau d'entiers aléatoires. Cette fonction permettra de fournir des données en entrée de chaque algorithme."
   ]
  },
  {
   "cell_type": "code",
   "execution_count": 7,
   "metadata": {},
   "outputs": [
    {
     "name": "stdout",
     "output_type": "stream",
     "text": [
      "[0.9698918888844585, 0.2272125529478758, 0.0768574910044102, 0.7216411436103358]\n"
     ]
    }
   ],
   "source": [
    "from random import random\n",
    "\n",
    "def gen_tab_alea(n):\n",
    "    tab = []\n",
    "    i = 0\n",
    "    while i < n:\n",
    "        tab.append(random())\n",
    "        i += 1\n",
    "    return tab\n",
    "\n",
    "t = gen_tab_alea(4)\n",
    "print(t)"
   ]
  },
  {
   "cell_type": "markdown",
   "metadata": {
    "deletable": false,
    "editable": false,
    "lines_to_next_cell": 0,
    "run_control": {
     "frozen": true
    }
   },
   "source": [
    "La bibliothèque `time` fournit un chronomètre (fonction `time`) qui permet de mesurer le temps d'exécution d'un code. Pour utiliser ce chronomètre, il faut importer cette fonction :"
   ]
  },
  {
   "cell_type": "code",
   "execution_count": 11,
   "metadata": {},
   "outputs": [],
   "source": [
    "from time import time"
   ]
  },
  {
   "cell_type": "markdown",
   "metadata": {
    "deletable": false,
    "editable": false,
    "run_control": {
     "frozen": true
    }
   },
   "source": [
    "Pour mesurer le temps d'exécution d'un code, il faut\n",
    "* lancer le chrononomètre au début du programme et l'arrêter à la fin.\n",
    "* calculer ensuite la différence entre les temps de départ et d'arrivée (pour obtenir la durée en sencondes).\n",
    "\n",
    "On peut chronométrer, par exemple, le temps nécessaire pour effectuer un décalage circulaire sur un tableau de taille 10000 avec la première méthode."
   ]
  },
  {
   "cell_type": "code",
   "execution_count": 36,
   "metadata": {},
   "outputs": [
    {
     "name": "stdout",
     "output_type": "stream",
     "text": [
      "1.72  ms\n"
     ]
    }
   ],
   "source": [
    "tab = gen_tab_alea(10000)\n",
    "\n",
    "tic = time()       # top départ\n",
    "\n",
    "########### Début du traitement à chronométer ###########\n",
    "decalage1(tab)\n",
    "############ Fin du traitement à chronométer ############\n",
    "\n",
    "tac = time()           # arrêt du chronomètre\n",
    "\n",
    "print(round(1000*(tac-tic),2),\" ms\")     # on convertit en ms et on arrondit au centième"
   ]
  },
  {
   "cell_type": "markdown",
   "metadata": {
    "deletable": false,
    "editable": false,
    "run_control": {
     "frozen": true
    }
   },
   "source": [
    "En exécutant plusieurs fois ce programme, on constate que le temps n'est pas toujours\n",
    "le même. En effet, plusieurs processus sont actifs en permanence sur la machine (applications en tâche de fond, interface graphique, réseau...) et peuvent mobiliser le processeur. Pour atténuer ce phénomène, on peut calculer la moyenne d'un certain nombre de mesures (par exemple 500) des temps d'exécution."
   ]
  },
  {
   "cell_type": "code",
   "execution_count": 9,
   "metadata": {},
   "outputs": [
    {
     "ename": "NameError",
     "evalue": "name 'time' is not defined",
     "output_type": "error",
     "traceback": [
      "\u001b[0;31m---------------------------------------------------------------------------\u001b[0m",
      "\u001b[0;31mNameError\u001b[0m                                 Traceback (most recent call last)",
      "\u001b[0;32m<ipython-input-9-4739b960c87d>\u001b[0m in \u001b[0;36m<module>\u001b[0;34m\u001b[0m\n\u001b[1;32m     34\u001b[0m \u001b[0mtab1\u001b[0m \u001b[0;34m=\u001b[0m \u001b[0mgen_tab_alea\u001b[0m\u001b[0;34m(\u001b[0m\u001b[0mn\u001b[0m\u001b[0;34m)\u001b[0m\u001b[0;34m\u001b[0m\u001b[0;34m\u001b[0m\u001b[0m\n\u001b[1;32m     35\u001b[0m \u001b[0mtab2\u001b[0m \u001b[0;34m=\u001b[0m \u001b[0mtab1\u001b[0m\u001b[0;34m.\u001b[0m\u001b[0mcopy\u001b[0m\u001b[0;34m(\u001b[0m\u001b[0;34m)\u001b[0m\u001b[0;34m\u001b[0m\u001b[0;34m\u001b[0m\u001b[0m\n\u001b[0;32m---> 36\u001b[0;31m \u001b[0mtps\u001b[0m \u001b[0;34m=\u001b[0m \u001b[0mmesure_decalage1\u001b[0m\u001b[0;34m(\u001b[0m\u001b[0mtab1\u001b[0m\u001b[0;34m)\u001b[0m\u001b[0;34m\u001b[0m\u001b[0;34m\u001b[0m\u001b[0m\n\u001b[0m\u001b[1;32m     37\u001b[0m \u001b[0mprint\u001b[0m\u001b[0;34m(\u001b[0m\u001b[0;34m\"Tps moyen pour un décalage circulaire sur un tableau de taille\"\u001b[0m\u001b[0;34m,\u001b[0m \u001b[0mn\u001b[0m\u001b[0;34m,\u001b[0m\u001b[0;34m\" avec decalage1 :\"\u001b[0m\u001b[0;34m,\u001b[0m \u001b[0mtps\u001b[0m\u001b[0;34m,\u001b[0m \u001b[0;34m\"ms\"\u001b[0m\u001b[0;34m)\u001b[0m\u001b[0;34m\u001b[0m\u001b[0;34m\u001b[0m\u001b[0m\n\u001b[1;32m     38\u001b[0m \u001b[0mtps\u001b[0m \u001b[0;34m=\u001b[0m \u001b[0mmesure_decalage2\u001b[0m\u001b[0;34m(\u001b[0m\u001b[0mtab2\u001b[0m\u001b[0;34m)\u001b[0m\u001b[0;34m\u001b[0m\u001b[0;34m\u001b[0m\u001b[0m\n",
      "\u001b[0;32m<ipython-input-9-4739b960c87d>\u001b[0m in \u001b[0;36mmesure_decalage1\u001b[0;34m(tab)\u001b[0m\n\u001b[1;32m      3\u001b[0m     \u001b[0mnb_mesures\u001b[0m \u001b[0;34m=\u001b[0m \u001b[0;36m500\u001b[0m\u001b[0;34m\u001b[0m\u001b[0;34m\u001b[0m\u001b[0m\n\u001b[1;32m      4\u001b[0m \u001b[0;34m\u001b[0m\u001b[0m\n\u001b[0;32m----> 5\u001b[0;31m     \u001b[0mtic\u001b[0m \u001b[0;34m=\u001b[0m \u001b[0mtime\u001b[0m\u001b[0;34m(\u001b[0m\u001b[0;34m)\u001b[0m       \u001b[0;31m# top départ\u001b[0m\u001b[0;34m\u001b[0m\u001b[0;34m\u001b[0m\u001b[0m\n\u001b[0m\u001b[1;32m      6\u001b[0m \u001b[0;34m\u001b[0m\u001b[0m\n\u001b[1;32m      7\u001b[0m     \u001b[0;31m# On fait nb_messures decalages circulaires avec decalage1\u001b[0m\u001b[0;34m\u001b[0m\u001b[0;34m\u001b[0m\u001b[0;34m\u001b[0m\u001b[0m\n",
      "\u001b[0;31mNameError\u001b[0m: name 'time' is not defined"
     ]
    }
   ],
   "source": [
    "def mesure_decalage1(tab):\n",
    "\n",
    "    nb_mesures = 500\n",
    "    \n",
    "    tic = time()       # top départ\n",
    "    \n",
    "    # On fait nb_messures decalages circulaires avec decalage1\n",
    "    i = 0\n",
    "    while i < nb_mesures:\n",
    "        decalage1(tab)\n",
    "        i+=1\n",
    "    \n",
    "    tac = time()        \n",
    "    # arrêt du chronomètre\n",
    "    \n",
    "    # On fait la moyenne des temps d'exécutions (ms) des nb_mesures exécutions et on arrondit au millième\n",
    "    return round(1000*(tac-tic) / nb_mesures, 3)\n",
    "\n",
    "\n",
    "\n",
    "# Fonction pour mesurer le temps moyen pour effectuer un décalage circulaire avec la deuxième méthode\n",
    "def mesure_decalage2(tab):\n",
    "    nb_mesures = 500    \n",
    "    tic = time()\n",
    "    i = 0\n",
    "    while i < nb_mesures:\n",
    "        decalage2(tab)\n",
    "        i+=1\n",
    "    tac = time()\n",
    "    return round(1000*(tac-tic) / nb_mesures, 3)\n",
    "\n",
    "\n",
    "n = 10000\n",
    "tab1 = gen_tab_alea(n)\n",
    "tab2 = tab1.copy()\n",
    "tps = mesure_decalage1(tab1)\n",
    "print(\"Tps moyen pour un décalage circulaire sur un tableau de taille\", n,\" avec decalage1 :\", tps, \"ms\")\n",
    "tps = mesure_decalage2(tab2)\n",
    "print(\"Tps moyen pour un décalage circulaire sur un tableau de taille\", n, \" avec decalage2 :\", tps, \"ms\")"
   ]
  },
  {
   "cell_type": "markdown",
   "metadata": {
    "deletable": false,
    "editable": false,
    "run_control": {
     "frozen": true
    }
   },
   "source": [
    "En regardant les temps d'exécution, on s'aperçoit la deuxième méthode pour le décalage circulaire est plus rapide que la première méthode."
   ]
  },
  {
   "cell_type": "markdown",
   "metadata": {
    "deletable": false,
    "editable": false,
    "run_control": {
     "frozen": true
    }
   },
   "source": [
    "## Opérations élémentaires et complexité\n",
    "\n",
    "Il est très difficile de comparer expérimentalement deux algorithmes en mesurant leur temps d'exécution, comme dans l'exemple ci-dessus. Il faut en effet implémenter les deux algorithmes et faire de nombreux tests sur le même ordinateur (la vitesse du processeur, cache, accès disque variant beaucoup d'un ordinateur à un autre). \n",
    "\n",
    "La théorie de la complexité permet de comparer des algorithmes sans même les implémenter. Elle permet aussi d'avoir une idée précise sur le comportement d'un algorithme suivant les données en entrée. Par exemple, elle permet de répondre à des questions du type : \"si le tableau en entrée est 100 fois plus grand, est-ce que l'algorithme sera 100 fois plus long ? 10000 fois plus long, aussi long ?\"\n",
    "\n",
    "La théorie de la complexité est basée sur le calcul du nombre d'opérations élémentaires. Une *opération élémentaire* correspond à une opération simple : affectation, addition, soustraction, multiplication, division, comparaison de valeurs, etc. On suppose qu'un ordinateur met le même temps pour faire n'importe quelle opération (petite approximation). *Pour avoir une idée de la durée d'exécution, il suffit de connaître le nombre d'opérations élémentaires nécessaires à effectuer ainsi que le temps nécessaire pour effectuer une opération élémentaire.*\n",
    "\n",
    "### Nombre d'opérations élémentaires pour le décalage circulaire\n",
    "\n",
    "#### Première méthode\n",
    "\n",
    "On a autant d'itérations qu'il y a de valeurs dans le tableau. À chaque itération, on a comme opérations élémentaires :\n",
    "* $4$ affectations,\n",
    "* $3$ additions,\n",
    "* $1$ soustraction,\n",
    "* $1$ comparaison.\n",
    "\n",
    "On a donc $9$ opérations élémentaires par itération. On a aussi une affectation au départ (`i = 0`). Si le tableau a $n$ cases, alors le nombre d'opérations élémentaires est : $9n + 1$.\n",
    "\n",
    "#### Deuxième méthode\n",
    "\n",
    "On a autant d'itérations qu'il y a de valeurs dans le tableau. À chaque itération, on a comme opérations élémentaires :\n",
    "* $2$ affectations,\n",
    "* $2$ additions,\n",
    "* $1$ soustraction,\n",
    "* $1$ comparaison.\n",
    "\n",
    "On a donc $6$ opérations élémentaires par itération. On a aussi deux affectations et une soustraction en dehors de la boucle. Si le tableau a $n$ cases, alors le nombre d'opérations élémentaires est : $6n + 3$.\n",
    "\n",
    "#### Comparaison\n",
    "\n",
    "Si le tableau fait 10000 cases, le premier algorithme nécessite 90001 opérations alors que le deuxième nécessite 60003 opérations élémentaires. Théoriquement, pour un tableau de taille 10000, le deuxième algorithme est environ 1.5 fois plus rapide (90001/60003). On retrouve un résultat similaire expérimentalement en comparant les temps d'exécution. \n",
    "\n",
    "#### Estimation du temps d'exécution pour un tableau de taille 100000\n",
    "\n",
    "Si la taille du tableau est multipliée par 10, alors le nombre d'opérations élémentaires est aussi multiplié par 10 et l'algorithme prendra alors 10 fois plus de temps. On peut ainsi estimer le temps d'exécution nécessaire pour des très grandes données sans tester expérimentalement."
   ]
  },
  {
   "cell_type": "markdown",
   "metadata": {
    "deletable": false,
    "editable": false,
    "run_control": {
     "frozen": true
    }
   },
   "source": [
    "**Sur ce thème :** Exercice 1 du TD."
   ]
  },
  {
   "cell_type": "markdown",
   "metadata": {
    "deletable": false,
    "editable": false,
    "run_control": {
     "frozen": true
    }
   },
   "source": [
    "## Complexité dans le pire des cas\n",
    "\n",
    "En général, le nombre d'opérations dépend non seulement de la taille des données,\n",
    "mais des données elles-mêmes (on dit aussi : de l'instance).\n",
    "\n",
    "Par exemple, si l'on recherche un élément particulier dans un tableau de taille `n`, avec de la chance, l'élément est trouvé du premier coup et le programme s'arrête après une opération.\n",
    "\n",
    "Mais il est intéressant de prévoir la performance pour un jeu de données\n",
    "défavorable ou la **complexité dans le pire des cas**. Dans l'exemple de la recherche,\n",
    "le pire des cas se produit quand l'élément n'est pas trouvé ou trouvé en dernier,\n",
    "ce qui oblige à parcourir le tableau entier. "
   ]
  },
  {
   "cell_type": "markdown",
   "metadata": {
    "deletable": false,
    "editable": false,
    "run_control": {
     "frozen": true
    }
   },
   "source": [
    "## Complexité asymptotique\n"
   ]
  },
  {
   "cell_type": "markdown",
   "metadata": {
    "deletable": false,
    "editable": false,
    "run_control": {
     "frozen": true
    }
   },
   "source": [
    "Calculer le nombre exact d'opérations élémentaires peut s'avérer difficile et n'est pas nécessaire, une estimation suffit. \n",
    "\n",
    "Le nombre d'opérations élémentaires peut être vu comme une fonction mathématique dépendant de la taille de l'instance. Ainsi, les complexités des méthodes de décalage sont les fonctions $f(n) = 9n +1$ et $f(n) = 6n + 3$. La complexité asymptotique consiste à comparer la fonction de complexité avec des fonctions de référence (puissance (linéaire, quadratique, etc), logarithmique, exponentielle, etc) pour des instances de grande taille (quand $n$ est grand). \n",
    "\n",
    "Par exemple : \n",
    "* La complexité d'un algorithme est **linéaire** si le nombre d'opérations élémentaires est environ $Cn$ où $C$ est une constante,\n",
    "* La complexité d'un algorithme est **quadratique** si le nombre d'opérations élémentaires est environ $Cn^2$ où $C$ est une constante,\n",
    "* La complexité d'un algorithme est **logarithmique** si le nombre d'opérations élémentaires est environ $C\\log_2(n)$ où $C$ est une constante.\n",
    "\n",
    "La complexité d'un algorithme est notée $O(g(n))$ (prononcée *grand Ô de g(n)*) , où $g(n)$ est une fonction de référence. Une complexité linéaire est notée $O(n)$, une complexité quadratique $O(n^2)$, etc."
   ]
  },
  {
   "cell_type": "markdown",
   "metadata": {
    "deletable": false,
    "editable": false,
    "run_control": {
     "frozen": true
    }
   },
   "source": [
    "**Sur ce thème :** Exercices 2 et 3 du TD.\n",
    "\n"
   ]
  },
  {
   "cell_type": "code",
   "execution_count": null,
   "metadata": {},
   "outputs": [],
   "source": []
  }
 ],
 "metadata": {
  "kernelspec": {
   "display_name": "Python 3",
   "language": "python",
   "name": "python3"
  },
  "language_info": {
   "codemirror_mode": {
    "name": "ipython",
    "version": 3
   },
   "file_extension": ".py",
   "mimetype": "text/x-python",
   "name": "python",
   "nbconvert_exporter": "python",
   "pygments_lexer": "ipython3",
   "version": "3.8.10"
  }
 },
 "nbformat": 4,
 "nbformat_minor": 5
}
