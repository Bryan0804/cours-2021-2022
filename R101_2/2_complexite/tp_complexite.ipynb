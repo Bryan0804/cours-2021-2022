{
 "cells": [
  {
   "cell_type": "markdown",
   "metadata": {
    "deletable": false,
    "editable": false,
    "run_control": {
     "frozen": true
    }
   },
   "source": [
    "# TP : Complexité"
   ]
  },
  {
   "cell_type": "code",
   "execution_count": null,
   "metadata": {},
   "outputs": [],
   "source": [
    "from random import randint\n",
    "from time import time\n",
    "\n",
    "# Pour dessiner des courbes\n",
    "from matplotlib.pyplot import plot, show, legend, xlabel, ylabel"
   ]
  },
  {
   "cell_type": "markdown",
   "metadata": {
    "deletable": false,
    "editable": false,
    "run_control": {
     "frozen": true
    }
   },
   "source": [
    "Un tableau `tab1` est inclus dans un tableau `tab2` si tous les éléments de `tab1` sont aussi des éléments de `tab2`. Le but de ce tp est d'implémenter deux algorithmes permettant de déterminer, étant deux tableaux, si le premier est inclus dans le deuxième.\n",
    "\n"
   ]
  },
  {
   "cell_type": "markdown",
   "metadata": {
    "deletable": false,
    "editable": false,
    "run_control": {
     "frozen": true
    }
   },
   "source": [
    "## Exercice 1 : Appartenance d'un élément à un tableau\n",
    "\n",
    "### Question 1\n",
    "\n",
    "Définir la fonction `appartient` prenant en paramètre une valeur et un tableau de valeurs et retournant `True` si la valeur et dans le tableau, et `False` sinon."
   ]
  },
  {
   "cell_type": "code",
   "execution_count": null,
   "metadata": {
    "tags": [
     "answer"
    ]
   },
   "outputs": [],
   "source": [
    "############################## \n",
    "#   Saisir votre code ici.   #\n",
    "##############################\n",
    "\n",
    "\n"
   ]
  },
  {
   "cell_type": "markdown",
   "metadata": {
    "deletable": false,
    "editable": false,
    "run_control": {
     "frozen": true
    }
   },
   "source": [
    "### Question 2\n",
    "\n",
    "Définir une fonction de tests unitaires de la fonction `appartient`."
   ]
  },
  {
   "cell_type": "code",
   "execution_count": null,
   "metadata": {
    "tags": [
     "answer"
    ]
   },
   "outputs": [],
   "source": [
    "############################## \n",
    "#   Saisir votre code ici.   #\n",
    "##############################\n",
    "\n",
    "\n"
   ]
  },
  {
   "cell_type": "markdown",
   "metadata": {
    "deletable": false,
    "editable": false,
    "run_control": {
     "frozen": true
    }
   },
   "source": [
    "### Question 3\n",
    "\n",
    "Quelle est la complexité asymptotique de la fonction `appartient` ?"
   ]
  },
  {
   "cell_type": "markdown",
   "metadata": {
    "deletable": false,
    "run_control": {
     "frozen": false
    },
    "tags": [
     "answer"
    ]
   },
   "source": [
    "**Réponse :** Écrire votre réponse ici.\n",
    "\n",
    "\n"
   ]
  },
  {
   "cell_type": "markdown",
   "metadata": {
    "deletable": false,
    "editable": false,
    "run_control": {
     "frozen": true
    }
   },
   "source": [
    "## Exercice 2 : Générateur aléatoire de tableaux\n",
    "\n",
    "Définir une fonction `gen_tab_int(n, min, max)` retournant un tableau de `n` nombres entiers aléatoires compris entre `min` et `max` inclus. La fonction doit vérifier les tests unitaires ci-dessous."
   ]
  },
  {
   "cell_type": "code",
   "execution_count": null,
   "metadata": {
    "tags": [
     "answer"
    ]
   },
   "outputs": [],
   "source": [
    "############################## \n",
    "#   Saisir votre code ici.   #\n",
    "##############################\n",
    "\n",
    "\n"
   ]
  },
  {
   "cell_type": "code",
   "execution_count": null,
   "metadata": {},
   "outputs": [],
   "source": [
    "def test_gen_tab_int():\n",
    "    assert gen_tab_int(0, 1, 10) == []\n",
    "    assert gen_tab_int(1, 1, 1) == [1]\n",
    "    assert gen_tab_int(6, 4, 4) == [4, 4, 4, 4, 4, 4]\n",
    "    tab = gen_tab_int(400, 0, 1)\n",
    "    assert len(tab) == 400\n",
    "    i = 0\n",
    "    while i < 400:\n",
    "        assert tab[i] == 0 or tab[i] == 1\n",
    "        i += 1\n",
    "\n",
    "    print(\"Test de la fonction gen_tab_int : ok\")\n",
    "\n",
    "\n",
    "test_gen_tab_int()"
   ]
  },
  {
   "cell_type": "markdown",
   "metadata": {
    "deletable": false,
    "editable": false,
    "run_control": {
     "frozen": true
    }
   },
   "source": [
    "## Exercice 3 : Courbes de performance de l'appartenance d'un élément à un tableau\n",
    "\n",
    "Le but de cet exercice est de mesurer le temps d'exécution nécessaire pour déterminer si un élément appartient à un tableau. On souhaite déterminer ce temps pour différentes tailles de tableaux et différents cas : \n",
    "* pire cas : quand l'algorithme met le plus de temps (à vous de déterminer ce pire cas)\n",
    "* lorsque l'on cherche la valeur 1 dans un tableau aléatoire contenant uniquement des entiers entre 1 et 100\n",
    "* lorsque l'on cherche la valeur 1 dans un tableau aléatoire contenant uniquement des entiers entre 1 et 1 000 000\n",
    "\n",
    "On souhaite ensuite dessiner les courbes de temps d'exécution en fonction de la taille de l'instance pour visualiser plus facilement les résultats."
   ]
  },
  {
   "cell_type": "markdown",
   "metadata": {
    "deletable": false,
    "editable": false,
    "run_control": {
     "frozen": true
    }
   },
   "source": [
    "### Question 1\n",
    "\n",
    "Définir la fonction `mesure_appartient` prenant en paramètre 4 entiers `n`, `val`, `mini` et `maxi`. La fonction devra mesurer le temps d'exécution nécessaire pour déterminer si la valeur `val` appartient au tableau généré aléatoirement avec la fonction `gen_tab_int` pour les valeurs `n`, `mini` et `maxi`.\n",
    "\n",
    "**Attention :** La fonction devra mesurer le temps moyen de recherche sur 20 mesures. Chaque mesure se fera sur un tableau aléatoire différent (un appel de `gen_tab_int` doit être fait pour chaque mesure). De plus, la mesure ne devra pas prendre en compte le temps nécessaire pour la création du tableau."
   ]
  },
  {
   "cell_type": "code",
   "execution_count": null,
   "metadata": {
    "tags": [
     "answer"
    ]
   },
   "outputs": [],
   "source": [
    "############################## \n",
    "#   Saisir votre code ici.   #\n",
    "##############################\n",
    "\n",
    "\n"
   ]
  },
  {
   "cell_type": "markdown",
   "metadata": {
    "deletable": false,
    "editable": false,
    "run_control": {
     "frozen": true
    }
   },
   "source": [
    "### Question 2\n",
    "\n",
    "Définir la fonction `mesure_appartient_multiples` prenant en paramètre un tableau d'entiers `taille` et 3 entiers `val`, `mini` et `maxi`. le tableau `taille` doit contenir les différentes tailles de tableaux pour lesquelles on souhaite mesurer le temps d'exécution de l'appartenance. La fonction doit retourner un tableau contenant les mesures pour les différentes tailles (la ième case du tableau retourné doit contenir le temps d'exécution pour tester l'appartenance de `val` pour un tableau avec `taille[i]` éléments)."
   ]
  },
  {
   "cell_type": "code",
   "execution_count": null,
   "metadata": {
    "tags": [
     "answer"
    ]
   },
   "outputs": [],
   "source": [
    "############################## \n",
    "#   Saisir votre code ici.   #\n",
    "##############################\n",
    "\n",
    "\n"
   ]
  },
  {
   "cell_type": "markdown",
   "metadata": {
    "deletable": false,
    "editable": false,
    "run_control": {
     "frozen": true
    }
   },
   "source": [
    "### Question 3\n",
    "\n",
    "Tracer les courbes de temps d'exécution. Pour cela, on testera pour les tailles de tableaux suivantes : 100, 1000, 10000, 20000, 50000. On cherchera toujours la valeur 1 dans le tableau. On testera pour 4 cas : \n",
    "* pire cas (que vous devez déterminer)\n",
    "* facile : le tableau contient des nombres aléatoires entre 1 et 100,\n",
    "* moyen : le tableau contient des nombres aléatoires entre 1 et 10 000,\n",
    "* difficile : le tableau contient des nombres aléatoires entre 1 et 100 000.\n",
    "\n",
    "Pour tracer un graphique, on utilise la fonction `plot` comme dans l'exemple."
   ]
  },
  {
   "cell_type": "code",
   "execution_count": null,
   "metadata": {},
   "outputs": [],
   "source": [
    "%matplotlib inline\n",
    "\n",
    "x = [1, 2, 3, 4, 5, 6, 7, 8]\n",
    "y1 = [10, 20, 30, 20, 10, 20, 30, 20]\n",
    "y2 = [15, 25, 15, 25, 15, 25, 15, 25]\n",
    "plot(x, y1, \"b\", label=\"Courbe y1\")\n",
    "plot(x, y2, \"g\", label=\"Courbe y2\")\n",
    "xlabel(\"Valeurs de x\")\n",
    "ylabel(\"Valeurs de y\")\n",
    "legend()"
   ]
  },
  {
   "cell_type": "code",
   "execution_count": null,
   "metadata": {
    "tags": [
     "answer"
    ]
   },
   "outputs": [],
   "source": [
    "############################## \n",
    "#   Saisir votre code ici.   #\n",
    "##############################\n",
    "\n",
    "\n"
   ]
  },
  {
   "cell_type": "markdown",
   "metadata": {
    "deletable": false,
    "editable": false,
    "run_control": {
     "frozen": true
    }
   },
   "source": [
    "## Exercice 4 : Inclusion de tableaux\n",
    "\n",
    "### Question 1\n",
    "\n",
    "Définir la fonction `inclus` prenant en paramètre deux tableaux `tab1` et `tab2` et retournant `True` si `tab1` est inclus dans `tab2`, et `False` sinon. La fonction doit vérifier les tests unitaires définis ci-dessous."
   ]
  },
  {
   "cell_type": "code",
   "execution_count": null,
   "metadata": {
    "tags": [
     "answer"
    ]
   },
   "outputs": [],
   "source": [
    "############################## \n",
    "#   Saisir votre code ici.   #\n",
    "##############################\n",
    "\n",
    "\n"
   ]
  },
  {
   "cell_type": "code",
   "execution_count": null,
   "metadata": {},
   "outputs": [],
   "source": [
    "def test_inclus():\n",
    "    assert inclus([1, 2, 3], [3, 2, 1])\n",
    "    assert inclus([], [])\n",
    "    assert inclus([1, 1, 2, 1, 2], [3, 2, 1])\n",
    "    assert not inclus([1], [2, 3, 4, 5, 6])\n",
    "    assert not inclus([1, 10, 19, 20], [1, 19, 20, 19, 1, 20])\n",
    "    print(\"Test de la fonction inclus : ok\")\n",
    "\n",
    "\n",
    "test_inclus()"
   ]
  },
  {
   "cell_type": "markdown",
   "metadata": {
    "deletable": false,
    "editable": false,
    "run_control": {
     "frozen": true
    }
   },
   "source": [
    "### Question 2\n",
    "\n",
    "Quelle est la complexité asymptotique de la fonction `inclus` ?"
   ]
  },
  {
   "cell_type": "markdown",
   "metadata": {
    "deletable": false,
    "run_control": {
     "frozen": false
    },
    "tags": [
     "answer"
    ]
   },
   "source": [
    "**Réponse :** Écrire votre réponse ici.\n",
    "\n",
    "\n"
   ]
  },
  {
   "cell_type": "markdown",
   "metadata": {
    "deletable": false,
    "editable": false,
    "run_control": {
     "frozen": true
    }
   },
   "source": [
    "### Question 3\n",
    "\n",
    "Définir les fonctions `mesure_inclus` et `mesure_inclus_multiples` en vous aidant des définitions des fonctions `mesure_appartient` et `mesure_appartient_multiples`. Chaque mesure sera faite avec des tableaux de même taille contenant des entiers aléatoires entre `mini` et `maxi`.\n",
    "\n",
    "Afficher les courbes de temps d'exécution pour les tailles de tableaux 100, 1000, 2000, 5000, 7500.\n",
    "On testera 4 cas : \n",
    "* les tableaux contiennent des nombres aléatoires entre 1 et 100,\n",
    "* les tableaux contiennent des nombres aléatoires entre 1 et 500,\n",
    "* les tableaux contiennent des nombres aléatoires entre 1 et 1000,\n",
    "* les tableaux contiennent des nombres aléatoires entre 1 et 2000."
   ]
  },
  {
   "cell_type": "code",
   "execution_count": null,
   "metadata": {
    "tags": [
     "answer"
    ]
   },
   "outputs": [],
   "source": [
    "############################## \n",
    "#   Saisir votre code ici.   #\n",
    "##############################\n",
    "\n",
    "\n"
   ]
  },
  {
   "cell_type": "markdown",
   "metadata": {
    "deletable": false,
    "editable": false,
    "run_control": {
     "frozen": true
    }
   },
   "source": [
    "## Exercice 5 : Test d'inclusion lorsque le nombre de valeurs distinctes est faible\n",
    "\n",
    "Lorsque les tableaux contiennent peu de valeurs distinctes, on peut définir un algorithme plus rapide pour tester l'inclusion.\n",
    "Pour simplifier, on suppose que les deux tableaux contiennent uniquement des nombres entiers aléatoires entre 1 et 1000 inclus.\n",
    "\n",
    "L'algorithme \"rapide\" est le suivant : \n",
    "1. On crée un tableau auxiliaire `aux` de 1001 cases contenant toutes la valeur `False`. \n",
    "2. Parcourir le tableau `tab2` pour mettre à jour le tableau `aux` : `aux[i]` doit être égal à `True` si `i` est un entier de `tab2`, et `False` sinon.\n",
    "3. Déterminer grâce au tableau `aux` si `tab1` est inclus dans `tab2`.\n",
    "\n",
    "### Question 1\n",
    "\n",
    "Définir la fonction `inclus_rapide` implémentant l'algorithme \"rapide\" de test d'inclusion (on suppose que les tableaux contiennent des entiers entre 1 et 1000). La fonction doit vérifier les tests unitaires ci-dessous.\n"
   ]
  },
  {
   "cell_type": "code",
   "execution_count": null,
   "metadata": {
    "tags": [
     "answer"
    ]
   },
   "outputs": [],
   "source": [
    "############################## \n",
    "#   Saisir votre code ici.   #\n",
    "##############################\n",
    "\n",
    "\n"
   ]
  },
  {
   "cell_type": "code",
   "execution_count": null,
   "metadata": {},
   "outputs": [],
   "source": [
    "def test_inclus_rapide():\n",
    "    assert inclus_rapide([1, 2, 3], [3, 2, 1])\n",
    "    assert inclus_rapide([], [])\n",
    "    assert inclus_rapide([1, 1, 2, 1, 2], [3, 2, 1])\n",
    "    assert not inclus_rapide([1], [2, 3, 4, 5, 6])\n",
    "    assert not inclus_rapide([1, 10, 19, 20], [1, 19, 20, 19, 1, 20])\n",
    "    print(\"Test de la fonction inclus_rapide : ok\")\n",
    "\n",
    "\n",
    "test_inclus_rapide()"
   ]
  },
  {
   "cell_type": "markdown",
   "metadata": {
    "deletable": false,
    "editable": false,
    "run_control": {
     "frozen": true
    }
   },
   "source": [
    "### Question 2\n",
    "\n",
    "Quelle est la complexité asymptotique de l'inclusion \"rapide\" ?"
   ]
  },
  {
   "cell_type": "markdown",
   "metadata": {
    "deletable": false,
    "editable": false,
    "run_control": {
     "frozen": true
    }
   },
   "source": [
    "L'algorithme a une complexité linéaire : \n",
    "1. Créer un tableau contenant 1000 cases initialisées à `False` se fait en temps constant (On fait un nombre constant d'appels à la fonction `append` qui peut être considérée comme une opération élémentaire).\n",
    "2. La mise à jour du tableau `aux` se fait en temps linéaire. On parcourt toutes les cases du tableau `tab2`. Pour chaque case, on fait un nombre constant d'opérations élémentaires.\n",
    "3. Le test consiste à parcourir le tableau `tab1` et à vérifier que `aux[tab[i]]` vaut `True`. Le test se fait en temps constant donc cette étape se fait en temps linéaire."
   ]
  },
  {
   "cell_type": "markdown",
   "metadata": {
    "deletable": false,
    "editable": false,
    "run_control": {
     "frozen": true
    }
   },
   "source": [
    "### Question 3\n",
    "\n",
    "Définir les fonctions `mesure_inclus_rapide` et `mesure_inclus_rapide_multiples` puis afficher les courbes des temps d'exécution des deux algorithmes de test d'inclusion. Les mesures seront faites pour des tableaux de taille 100, 200, 500, 1000, 5000 et 7500."
   ]
  },
  {
   "cell_type": "code",
   "execution_count": null,
   "metadata": {
    "tags": [
     "answer"
    ]
   },
   "outputs": [],
   "source": [
    "############################## \n",
    "#   Saisir votre code ici.   #\n",
    "##############################\n",
    "\n",
    "\n"
   ]
  }
 ],
 "metadata": {
  "kernelspec": {
   "display_name": "Python 3",
   "language": "python",
   "name": "python3"
  },
  "language_info": {
   "codemirror_mode": {
    "name": "ipython",
    "version": 3
   },
   "file_extension": ".py",
   "mimetype": "text/x-python",
   "name": "python",
   "nbconvert_exporter": "python",
   "pygments_lexer": "ipython3",
   "version": "3.8.10"
  }
 },
 "nbformat": 4,
 "nbformat_minor": 5
}
