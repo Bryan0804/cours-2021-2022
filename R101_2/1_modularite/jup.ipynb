{
 "cells": [
  {
   "cell_type": "code",
   "execution_count": 10,
   "metadata": {},
   "outputs": [
    {
     "ename": "SyntaxError",
     "evalue": "invalid syntax (<ipython-input-10-5be58393fcf2>, line 8)",
     "output_type": "error",
     "traceback": [
      "\u001b[0;36m  File \u001b[0;32m\"<ipython-input-10-5be58393fcf2>\"\u001b[0;36m, line \u001b[0;32m8\u001b[0m\n\u001b[0;31m    i+= 1\u001b[0m\n\u001b[0m    ^\u001b[0m\n\u001b[0;31mSyntaxError\u001b[0m\u001b[0;31m:\u001b[0m invalid syntax\n"
     ]
    }
   ],
   "source": [
    "import cesar \n",
    "res =  cesar.chiffre_cesar(\"la cyrto c'est cool\",5)\n",
    "print(res)\n",
    "\n",
    "i+1\n",
    "while i<26:\n",
    "    print (i,cesar.dechiffre_cesar(\"oaz jk borrkzgtkayk\",i)\n",
    "           i+= 1\n",
    "           print (res)"
   ]
  },
  {
   "cell_type": "code",
   "execution_count": null,
   "metadata": {},
   "outputs": [],
   "source": []
  }
 ],
 "metadata": {
  "kernelspec": {
   "display_name": "Python 3",
   "language": "python",
   "name": "python3"
  },
  "language_info": {
   "codemirror_mode": {
    "name": "ipython",
    "version": 3
   },
   "file_extension": ".py",
   "mimetype": "text/x-python",
   "name": "python",
   "nbconvert_exporter": "python",
   "pygments_lexer": "ipython3",
   "version": "3.8.10"
  }
 },
 "nbformat": 4,
 "nbformat_minor": 4
}
