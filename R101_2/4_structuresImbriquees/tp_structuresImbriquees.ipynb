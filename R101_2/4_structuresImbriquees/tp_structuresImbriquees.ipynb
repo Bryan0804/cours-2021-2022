{
 "cells": [
  {
   "cell_type": "markdown",
   "metadata": {
    "deletable": false,
    "editable": false,
    "run_control": {
     "frozen": true
    }
   },
   "source": [
    "# TP : Structures imbriquées"
   ]
  },
  {
   "cell_type": "markdown",
   "metadata": {
    "deletable": false,
    "editable": false,
    "run_control": {
     "frozen": true
    }
   },
   "source": [
    "Les données météorologiques utilisées dans ce TP concernent la ville de Paris en 2009. Ces données sont issues du site *https://www.historique-meteo.net/*."
   ]
  },
  {
   "cell_type": "markdown",
   "metadata": {
    "deletable": false,
    "editable": false,
    "run_control": {
     "frozen": true
    }
   },
   "source": [
    "## Exercice 1 : météo le 5 janvier 2009"
   ]
  },
  {
   "cell_type": "markdown",
   "metadata": {
    "deletable": false,
    "editable": false,
    "run_control": {
     "frozen": true
    }
   },
   "source": [
    "La météo d'une journée est définie par :\n",
    "\n",
    "* la température maximale relevée (°C),\n",
    "\n",
    "* la température minimale relevée (°C),\n",
    "\n",
    "* la précipitation relevée (mm),\n",
    "\n",
    "* l'appréciation de la météo : \"météo favorable\", \"météo idéale\", etc.\n",
    "\n",
    "On représentera la météo d'une journée sous la forme d'un dictionnaire contenant 4 entrées : \n",
    "\n",
    "* `Tmax` (la valeur est un entier)\n",
    "\n",
    "* `Tmin` (la valeur est un entier)\n",
    "\n",
    "* `\"précipitation\"` (la valeur est un flottant)\n",
    "\n",
    "* `\"appréciation\"` (la valeur est une chaîne de caractères)"
   ]
  },
  {
   "cell_type": "markdown",
   "metadata": {
    "deletable": false,
    "editable": false,
    "run_control": {
     "frozen": true
    }
   },
   "source": [
    "### Question 1 \n",
    "\n",
    "Définir un dictionnaire (stocké dans la variable `meteo5janvier`) représentant la météo du 5 janvier 2009 à Paris sachant qu'il a fait -2°C au minimum, 0°C au maximum, qu'il a plu 6.9 mm et que l'appréciation était \"météo très défavorable\"."
   ]
  },
  {
   "cell_type": "code",
   "execution_count": null,
   "metadata": {
    "tags": [
     "answer"
    ]
   },
   "outputs": [],
   "source": [
    "meteo5janvier={\n",
    "    'Tmax':0\n",
    "    'Tmin':-2\n",
    "    \"précipitation\": 6.9\n",
    "    \"appréciation\":\"météo très défavorable\"\n",
    "        \n",
    "}"
   ]
  },
  {
   "cell_type": "markdown",
   "metadata": {
    "deletable": false,
    "editable": false,
    "run_control": {
     "frozen": true
    }
   },
   "source": [
    "### Question 2\n",
    "\n",
    "En utilisant les informations stockées dans `meteo5janvier`, afficher la phrase : \n",
    "\n",
    "`Ce jour-là, il a fait -2 °C au minimum, 0 °C au maximum et il a plu 6.9 mm, quelle météo très défavorable !`"
   ]
  },
  {
   "cell_type": "code",
   "execution_count": null,
   "metadata": {
    "tags": [
     "answer"
    ]
   },
   "outputs": [],
   "source": [
    "print( )\n"
   ]
  },
  {
   "cell_type": "markdown",
   "metadata": {
    "deletable": false,
    "editable": false,
    "run_control": {
     "frozen": true
    }
   },
   "source": [
    "## Exercice 2 : météo au mois de janvier\n",
    "\n",
    "Les températures pendant tout un mois peuvent être stockées sous la forme d'un tableau de dictionnaires. Il y a autant de cases dans le tableau qu'il y a de jours dans le mois. Chaque case contient alors un dictionnaire comme dans l'exercice 1.\n",
    "\n",
    "**Attention :** Comme l'indice d'un tableau commence à 0, le $i$ème jour sera stocké dans la case d'indice $i-1$.\n",
    "\n",
    "Les données du mois de janvier se trouvent dans le fichier `meteo_paris_janvier_2009.json` contenu dans le répertoire `data`."
   ]
  },
  {
   "cell_type": "markdown",
   "metadata": {
    "deletable": false,
    "editable": false,
    "run_control": {
     "frozen": true
    }
   },
   "source": [
    "### Question 1\n",
    "\n",
    "Créer la variable `janvier` contenant les informations de la météo au cours du mois de janvier 2009 à Paris. Pour cela, initialiser la variable avec les informations contenues dans le fichier `meteo_paris_janvier_2009.json` contenu dans le répertoire `data`.\n",
    "\n",
    "Vérifier ensuite que les informations pour le 5 janvier sont les mêmes que pour l'exercice 1."
   ]
  },
  {
   "cell_type": "code",
   "execution_count": 14,
   "metadata": {
    "tags": [
     "answer"
    ]
   },
   "outputs": [
    {
     "name": "stdout",
     "output_type": "stream",
     "text": [
      "[{'Tmax': 4, 'Tmin': -1, 'précipitation': 0.0, 'appréciation': 'météo très défavorable'}, {'Tmax': 1, 'Tmin': -4, 'précipitation': 0.0, 'appréciation': 'météo très défavorable'}, {'Tmax': 1, 'Tmin': -3, 'précipitation': 0.0, 'appréciation': 'météo très défavorable'}, {'Tmax': 0, 'Tmin': -4, 'précipitation': 0.0, 'appréciation': 'météo très défavorable'}, {'Tmax': 0, 'Tmin': -2, 'précipitation': 6.9, 'appréciation': 'météo très défavorable'}, {'Tmax': 0, 'Tmin': -5, 'précipitation': 0.5, 'appréciation': 'météo très défavorable'}, {'Tmax': 0, 'Tmin': -9, 'précipitation': 0.0, 'appréciation': 'météo très défavorable'}, {'Tmax': 0, 'Tmin': -4, 'précipitation': 0.0, 'appréciation': 'météo très défavorable'}, {'Tmax': 0, 'Tmin': -4, 'précipitation': 0.0, 'appréciation': 'météo très défavorable'}, {'Tmax': 3, 'Tmin': -4, 'précipitation': 0.0, 'appréciation': 'météo très défavorable'}, {'Tmax': 3, 'Tmin': -3, 'précipitation': 0.0, 'appréciation': 'météo très défavorable'}, {'Tmax': 3, 'Tmin': -1, 'précipitation': 0.0, 'appréciation': 'météo très défavorable'}, {'Tmax': 3, 'Tmin': 3, 'précipitation': 6.9, 'appréciation': 'météo très défavorable'}, {'Tmax': 5, 'Tmin': 4, 'précipitation': 0.4, 'appréciation': 'météo très défavorable'}, {'Tmax': 5, 'Tmin': 1, 'précipitation': 0.0, 'appréciation': 'météo très défavorable'}, {'Tmax': 6, 'Tmin': 1, 'précipitation': 0.0, 'appréciation': 'météo très défavorable'}, {'Tmax': 8, 'Tmin': 7, 'précipitation': 1.9, 'appréciation': 'météo très défavorable'}, {'Tmax': 8, 'Tmin': 7, 'précipitation': 11.2, 'appréciation': 'météo très défavorable'}, {'Tmax': 9, 'Tmin': 8, 'précipitation': 12.2, 'appréciation': 'météo défavorable'}, {'Tmax': 6, 'Tmin': 2, 'précipitation': 0.7, 'appréciation': 'météo très défavorable'}, {'Tmax': 5, 'Tmin': 1, 'précipitation': 0.0, 'appréciation': 'météo très défavorable'}, {'Tmax': 7, 'Tmin': 4, 'précipitation': 15.3, 'appréciation': 'météo très défavorable'}, {'Tmax': 10, 'Tmin': 6, 'précipitation': 13.7, 'appréciation': 'météo défavorable'}, {'Tmax': 6, 'Tmin': 4, 'précipitation': 0.9, 'appréciation': 'météo très défavorable'}, {'Tmax': 6, 'Tmin': 2, 'précipitation': 1.1, 'appréciation': 'météo très défavorable'}, {'Tmax': 7, 'Tmin': 5, 'précipitation': 0.9, 'appréciation': 'météo très défavorable'}, {'Tmax': 6, 'Tmin': 3, 'précipitation': 0.3, 'appréciation': 'météo très défavorable'}, {'Tmax': 5, 'Tmin': 2, 'précipitation': 0.0, 'appréciation': 'météo très défavorable'}, {'Tmax': 4, 'Tmin': 0, 'précipitation': 0.0, 'appréciation': 'météo très défavorable'}, {'Tmax': 4, 'Tmin': -1, 'précipitation': 0.0, 'appréciation': 'météo très défavorable'}, {'Tmax': 4, 'Tmin': 0, 'précipitation': 0.0, 'appréciation': 'météo très défavorable'}]\n"
     ]
    }
   ],
   "source": [
    "from json import loads\n",
    "\n",
    "f = open(\"data/meteo_paris_janvier_2009.json\",\"r\")\n",
    "s= f.read()\n",
    "f.close()\n",
    "\n",
    "\n",
    "meteo_janvier= loads(s)\n",
    "print(meteo_janvier)\n"
   ]
  },
  {
   "cell_type": "markdown",
   "metadata": {
    "deletable": false,
    "editable": false,
    "run_control": {
     "frozen": true
    }
   },
   "source": [
    "### Question 2\n",
    "\n",
    "Déterminer le nombre de jours pour lequel l'appréciation était : \"météo très défavorable\"."
   ]
  },
  {
   "cell_type": "code",
   "execution_count": 17,
   "metadata": {
    "tags": [
     "answer"
    ]
   },
   "outputs": [
    {
     "name": "stdout",
     "output_type": "stream",
     "text": [
      "29\n"
     ]
    }
   ],
   "source": [
    "mauvais_jours = 0 \n",
    "\n",
    "for jour in meteo_janvier: \n",
    "    if jour[\"appréciation\"] == \"météo très défavorable\":\n",
    "        mauvais_jours += 1\n",
    "print( mauvais_jours)"
   ]
  },
  {
   "cell_type": "markdown",
   "metadata": {
    "deletable": false,
    "editable": false,
    "run_control": {
     "frozen": true
    }
   },
   "source": [
    "### Question 3\n",
    "\n",
    "Définir fonction `Tmax_mois` retournant la température maximum relevée dans le mois. En déterminer la température maximum qu'il a fait au mois de janvier."
   ]
  },
  {
   "cell_type": "code",
   "execution_count": 20,
   "metadata": {
    "tags": [
     "answer"
    ]
   },
   "outputs": [
    {
     "ename": "SyntaxError",
     "evalue": "invalid syntax (<ipython-input-20-4ddb69651de5>, line 3)",
     "output_type": "error",
     "traceback": [
      "\u001b[0;36m  File \u001b[0;32m\"<ipython-input-20-4ddb69651de5>\"\u001b[0;36m, line \u001b[0;32m3\u001b[0m\n\u001b[0;31m    for jour[\"Tmax\"] > tmax:\u001b[0m\n\u001b[0m                     ^\u001b[0m\n\u001b[0;31mSyntaxError\u001b[0m\u001b[0;31m:\u001b[0m invalid syntax\n"
     ]
    }
   ],
   "source": [
    "def Tmax_mois(meteo_mois):\n",
    "    tmax = meteo_mois[0][\"Tmax\"] # \n",
    "    for jour[\"Tmax\"] > tmax:\n",
    "        tmax= jour[\"Tmax\"]\n",
    "     return tmax\n",
    "    \n",
    "print(Tmax_mois(meteo_janvier))"
   ]
  },
  {
   "cell_type": "markdown",
   "metadata": {
    "deletable": false,
    "editable": false,
    "run_control": {
     "frozen": true
    }
   },
   "source": [
    "## Exercice 3 : météo en 2009\n",
    "\n",
    "Les températures pour toute l'année 2009 peuvent être stockées sous la forme d'un dictionnaire contenant 12 entrées : les clés sont les noms des mois (`\"janvier\"`, `\"février\"`, etc) et les valeurs sont les tableaux de températures du mois (même format que dans l'exercice 2).\n",
    "\n",
    "Les données de l'année 2009 se trouvent dans le fichier `meteo_paris_2009.json`  contenu dans le répertoire `data`."
   ]
  },
  {
   "cell_type": "markdown",
   "metadata": {
    "deletable": false,
    "editable": false,
    "run_control": {
     "frozen": true
    }
   },
   "source": [
    "### Question 1\n",
    "\n",
    "Créer la variable `meteo2009` contenant les informations de la météo au cours de l'année 2009 à Paris. Pour cela, initialiser la variable avec les informations contenues dans le fichier `meteo_paris_2009.json` contenu dans le répertoire `data`.\n",
    "\n",
    "Vérifier ensuite que les informations pour le 5 janvier sont les mêmes que pour l'exercice 1."
   ]
  },
  {
   "cell_type": "code",
   "execution_count": 24,
   "metadata": {
    "tags": [
     "answer"
    ]
   },
   "outputs": [
    {
     "name": "stdout",
     "output_type": "stream",
     "text": [
      "[{'Tmax': 4, 'Tmin': -1, 'précipitation': 0.0, 'appréciation': 'météo très défavorable'}, {'Tmax': 1, 'Tmin': -4, 'précipitation': 0.0, 'appréciation': 'météo très défavorable'}, {'Tmax': 1, 'Tmin': -3, 'précipitation': 0.0, 'appréciation': 'météo très défavorable'}, {'Tmax': 0, 'Tmin': -4, 'précipitation': 0.0, 'appréciation': 'météo très défavorable'}, {'Tmax': 0, 'Tmin': -2, 'précipitation': 6.9, 'appréciation': 'météo très défavorable'}, {'Tmax': 0, 'Tmin': -5, 'précipitation': 0.5, 'appréciation': 'météo très défavorable'}, {'Tmax': 0, 'Tmin': -9, 'précipitation': 0.0, 'appréciation': 'météo très défavorable'}, {'Tmax': 0, 'Tmin': -4, 'précipitation': 0.0, 'appréciation': 'météo très défavorable'}, {'Tmax': 0, 'Tmin': -4, 'précipitation': 0.0, 'appréciation': 'météo très défavorable'}, {'Tmax': 3, 'Tmin': -4, 'précipitation': 0.0, 'appréciation': 'météo très défavorable'}, {'Tmax': 3, 'Tmin': -3, 'précipitation': 0.0, 'appréciation': 'météo très défavorable'}, {'Tmax': 3, 'Tmin': -1, 'précipitation': 0.0, 'appréciation': 'météo très défavorable'}, {'Tmax': 3, 'Tmin': 3, 'précipitation': 6.9, 'appréciation': 'météo très défavorable'}, {'Tmax': 5, 'Tmin': 4, 'précipitation': 0.4, 'appréciation': 'météo très défavorable'}, {'Tmax': 5, 'Tmin': 1, 'précipitation': 0.0, 'appréciation': 'météo très défavorable'}, {'Tmax': 6, 'Tmin': 1, 'précipitation': 0.0, 'appréciation': 'météo très défavorable'}, {'Tmax': 8, 'Tmin': 7, 'précipitation': 1.9, 'appréciation': 'météo très défavorable'}, {'Tmax': 8, 'Tmin': 7, 'précipitation': 11.2, 'appréciation': 'météo très défavorable'}, {'Tmax': 9, 'Tmin': 8, 'précipitation': 12.2, 'appréciation': 'météo défavorable'}, {'Tmax': 6, 'Tmin': 2, 'précipitation': 0.7, 'appréciation': 'météo très défavorable'}, {'Tmax': 5, 'Tmin': 1, 'précipitation': 0.0, 'appréciation': 'météo très défavorable'}, {'Tmax': 7, 'Tmin': 4, 'précipitation': 15.3, 'appréciation': 'météo très défavorable'}, {'Tmax': 10, 'Tmin': 6, 'précipitation': 13.7, 'appréciation': 'météo défavorable'}, {'Tmax': 6, 'Tmin': 4, 'précipitation': 0.9, 'appréciation': 'météo très défavorable'}, {'Tmax': 6, 'Tmin': 2, 'précipitation': 1.1, 'appréciation': 'météo très défavorable'}, {'Tmax': 7, 'Tmin': 5, 'précipitation': 0.9, 'appréciation': 'météo très défavorable'}, {'Tmax': 6, 'Tmin': 3, 'précipitation': 0.3, 'appréciation': 'météo très défavorable'}, {'Tmax': 5, 'Tmin': 2, 'précipitation': 0.0, 'appréciation': 'météo très défavorable'}, {'Tmax': 4, 'Tmin': 0, 'précipitation': 0.0, 'appréciation': 'météo très défavorable'}, {'Tmax': 4, 'Tmin': -1, 'précipitation': 0.0, 'appréciation': 'météo très défavorable'}, {'Tmax': 4, 'Tmin': 0, 'précipitation': 0.0, 'appréciation': 'météo très défavorable'}]\n"
     ]
    }
   ],
   "source": [
    "from json import loads\n",
    "\n",
    "f = open(\"data/meteo_paris_2009.json\")\n",
    "s= f.read()\n",
    "f.close()\n",
    "\n",
    "meteo2009 = loads(s)\n",
    "print(meteo2009[\"janvier\"])"
   ]
  },
  {
   "cell_type": "markdown",
   "metadata": {
    "deletable": false,
    "editable": false,
    "run_control": {
     "frozen": true
    }
   },
   "source": [
    "### Question 2\n",
    "\n",
    "Déterminer le nombre de jours dans l'année où la météo a été appréciée comme \"très défavorable\"."
   ]
  },
  {
   "cell_type": "code",
   "execution_count": 25,
   "metadata": {
    "tags": [
     "answer"
    ]
   },
   "outputs": [
    {
     "name": "stdout",
     "output_type": "stream",
     "text": [
      "108\n"
     ]
    }
   ],
   "source": [
    "mauvais_jours = 0\n",
    "\n",
    "\n",
    "for meteo_mois in meteo2009.values():\n",
    "    for jour in meteo_mois:\n",
    "        if jour[\"appréciation\"] == \"météo très défavorable\":\n",
    "            mauvais_jours +=1\n",
    "            \n",
    "print(mauvais_jours)"
   ]
  },
  {
   "cell_type": "markdown",
   "metadata": {
    "deletable": false,
    "editable": false,
    "run_control": {
     "frozen": true
    }
   },
   "source": [
    "### Question 3\n",
    "\n",
    "Déterminer la température maximum relevée durant l'année 2009 (utiliser la fonction définie dans la question 3 de l'exercice 2)."
   ]
  },
  {
   "cell_type": "code",
   "execution_count": null,
   "metadata": {
    "tags": [
     "answer"
    ]
   },
   "outputs": [],
   "source": []
  },
  {
   "cell_type": "markdown",
   "metadata": {
    "deletable": false,
    "editable": false,
    "run_control": {
     "frozen": true
    }
   },
   "source": [
    "## Exercice 4"
   ]
  },
  {
   "cell_type": "markdown",
   "metadata": {
    "deletable": false,
    "editable": false,
    "run_control": {
     "frozen": true
    }
   },
   "source": [
    "### Question 1\n",
    "\n",
    "Définir une fonction `moisSatisfaitAppreciation` qui prend en paramètre un mois et une appréciation météo (par exemple \"météo défavorable\") et retourne `True` si le mois contient un jour avec cette appréciation, et `False` sinon."
   ]
  },
  {
   "cell_type": "code",
   "execution_count": null,
   "metadata": {
    "tags": [
     "answer"
    ]
   },
   "outputs": [],
   "source": [
    "############################## \n",
    "#   Saisir votre code ici.   #\n",
    "##############################\n",
    "\n",
    "\n"
   ]
  },
  {
   "cell_type": "markdown",
   "metadata": {
    "deletable": false,
    "editable": false,
    "run_control": {
     "frozen": true
    }
   },
   "source": [
    "### Question 2\n",
    "\n",
    "Définir une fonction `rechercheSelonAppreciation` qui prend en paramètre une année météo et une appréciation météo (par exemple \"météo défavorable\") et retourne un tableau contenant les noms des mois ayant un jour avec cette appréciation météo."
   ]
  },
  {
   "cell_type": "code",
   "execution_count": null,
   "metadata": {
    "tags": [
     "answer"
    ]
   },
   "outputs": [],
   "source": [
    "############################## \n",
    "#   Saisir votre code ici.   #\n",
    "##############################\n",
    "\n",
    "\n"
   ]
  },
  {
   "cell_type": "markdown",
   "metadata": {
    "deletable": false,
    "editable": false,
    "run_control": {
     "frozen": true
    }
   },
   "source": [
    "### Question 3\n",
    "\n",
    "Définir une fonction `moisSatisfaitToutesAppreciations` qui prend en paramètre un mois et un tableau d'appréciations et retourne `True` si pour toutes les appréciations du tableau, le mois contient un jour avec cette appréciation, et `False` sinon."
   ]
  },
  {
   "cell_type": "code",
   "execution_count": null,
   "metadata": {
    "tags": [
     "answer"
    ]
   },
   "outputs": [],
   "source": [
    "############################## \n",
    "#   Saisir votre code ici.   #\n",
    "##############################\n",
    "\n",
    "\n"
   ]
  },
  {
   "cell_type": "markdown",
   "metadata": {
    "deletable": false,
    "editable": false,
    "run_control": {
     "frozen": true
    }
   },
   "source": [
    "### Question 4\n",
    "\n",
    "Définir une fonction `moisSatisfaitUneAppreciation` qui prend en paramètre un mois et un tableau d'appréciations et retourne `True` s'il existe un jour dans le mois avec comme appréciation une de celles du tableau passé en paramètre, et `False` sinon."
   ]
  },
  {
   "cell_type": "code",
   "execution_count": null,
   "metadata": {
    "tags": [
     "answer"
    ]
   },
   "outputs": [],
   "source": [
    "############################## \n",
    "#   Saisir votre code ici.   #\n",
    "##############################\n",
    "\n",
    "\n"
   ]
  },
  {
   "cell_type": "markdown",
   "metadata": {
    "deletable": false,
    "editable": false,
    "run_control": {
     "frozen": true
    }
   },
   "source": [
    "### Question 5\n",
    "\n",
    "Définir une fonction `rechercheSelonAppreciations` prenant en paramètre une année météo, un tableau d'appréciations météo et un paramètre `toutes` (booléen). La fonction doit retourner l'ensemble des mois ayant des jours avec comme appréciation toutes les appréciations passées en paramètre (si `toutes` vaut `True`) ou l'ensemble des mois ayant un jour avec comme appréciation une des appréciations passées en paramètre (si `toutes` vaut `False`)."
   ]
  },
  {
   "cell_type": "code",
   "execution_count": null,
   "metadata": {
    "tags": [
     "answer"
    ]
   },
   "outputs": [],
   "source": [
    "############################## \n",
    "#   Saisir votre code ici.   #\n",
    "##############################\n",
    "\n",
    "\n"
   ]
  }
 ],
 "metadata": {
  "kernelspec": {
   "display_name": "Python 3",
   "language": "python",
   "name": "python3"
  },
  "language_info": {
   "codemirror_mode": {
    "name": "ipython",
    "version": 3
   },
   "file_extension": ".py",
   "mimetype": "text/x-python",
   "name": "python",
   "nbconvert_exporter": "python",
   "pygments_lexer": "ipython3",
   "version": "3.8.10"
  }
 },
 "nbformat": 4,
 "nbformat_minor": 5
}
