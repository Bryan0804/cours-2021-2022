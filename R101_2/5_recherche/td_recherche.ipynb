{
 "cells": [
  {
   "cell_type": "markdown",
   "metadata": {
    "deletable": false,
    "editable": false,
    "run_control": {
     "frozen": true
    }
   },
   "source": [
    "# TD : Algorithmes de recherche"
   ]
  },
  {
   "cell_type": "markdown",
   "metadata": {
    "deletable": false,
    "editable": false,
    "run_control": {
     "frozen": true
    }
   },
   "source": [
    "## Exercice 1 : Recherche séquentielle\n",
    "\n",
    "Les deux fonctions ci-dessous implémentent la recherche séquentielle\n",
    "d’un caractère dans une chaîne. Elles fonctionnent aussi pour la\n",
    "recherche d'un élément dans une liste."
   ]
  },
  {
   "cell_type": "code",
   "execution_count": null,
   "metadata": {},
   "outputs": [],
   "source": [
    "#Version 1\n",
    "def appartient1(caractere, ch):\n",
    "    i = 0\n",
    "    rep = False\n",
    "    while i < len(ch):\n",
    "        if ch[i] == caractere:\n",
    "            rep = True\n",
    "        i += 1\n",
    "    return rep\n",
    "\n",
    "\n",
    "#Version 2\n",
    "def appartient2(caractere, ch):\n",
    "    i = 0\n",
    "    rep = False\n",
    "    while i < len(ch) and not rep:\n",
    "        if ch[i] == caractere:\n",
    "            rep = True\n",
    "        i += 1\n",
    "    return rep\n",
    "\n",
    "\n",
    "car = \"a\"\n",
    "ch = \"Super, c'est parfait !\"\n",
    "if appartient1(car, ch):\n",
    "    print(\"Le caractère\", car, \"est dans la chaîne\", ch)\n",
    "else:\n",
    "    print(\"Le caractère\", car, \"n'est pas dans\", ch)"
   ]
  },
  {
   "cell_type": "markdown",
   "metadata": {
    "deletable": false,
    "editable": false,
    "run_control": {
     "frozen": true
    }
   },
   "source": [
    "Combien de comparaisons (entre caractères) sont effectuées par chaque fonction pour rechercher le caractère `\"a\"` dans la chaîne `\"bbbba\"` ? dans la chaîne `\"bbabb\"` ? dans la chaîne `\"abbbb\"` ?"
   ]
  },
  {
   "cell_type": "markdown",
   "metadata": {
    "deletable": false,
    "run_control": {
     "frozen": false
    },
    "tags": [
     "answer"
    ]
   },
   "source": [
    "**Réponse :** Écrire votre réponse ici.\n",
    "\n",
    "\n"
   ]
  },
  {
   "cell_type": "markdown",
   "metadata": {
    "deletable": false,
    "editable": false,
    "run_control": {
     "frozen": true
    }
   },
   "source": [
    "## Exercice 2 : Inclusion\n",
    "\n",
    "Définir une fonction `inclus` prenant deux chaînes de caractères et retournant `True` si tous les caractères de la première chaîne sont inclus dans la deuxième, et `False` sinon."
   ]
  },
  {
   "cell_type": "code",
   "execution_count": 3,
   "metadata": {
    "tags": [
     "answer"
    ]
   },
   "outputs": [
    {
     "name": "stdout",
     "output_type": "stream",
     "text": [
      "True\n",
      "False\n",
      "False\n",
      "True\n",
      "True\n"
     ]
    }
   ],
   "source": [
    "a = \"rhkvd\"\n",
    "b = \"rendez-vous\"\n",
    "\n",
    "for lettre in a :\n",
    "    if lettre not in b:\n",
    "        print (\"False\")\n",
    "    else: \n",
    "        print(\"True\")\n",
    "        "
   ]
  },
  {
   "cell_type": "markdown",
   "metadata": {
    "deletable": false,
    "editable": false,
    "run_control": {
     "frozen": true
    }
   },
   "source": [
    "Quelle est la complexité de cette fonction dans le pire des cas ?"
   ]
  },
  {
   "cell_type": "markdown",
   "metadata": {
    "deletable": false,
    "run_control": {
     "frozen": false
    },
    "tags": [
     "answer"
    ]
   },
   "source": [
    "**Réponse :** Écrire votre réponse ici.\n",
    "\n",
    "\n"
   ]
  },
  {
   "cell_type": "markdown",
   "metadata": {
    "deletable": false,
    "editable": false,
    "run_control": {
     "frozen": true
    }
   },
   "source": [
    "## Exercice 3 : Application de la recherche dichotomique\n",
    "\n",
    "Soit un tableau de 17 nombres triés :\n",
    "\n",
    "`tab = [10, 13, 19, 28, 29, 32, 34, 37, 39, 42, 48, 49, 72, 81, 86, 93, 96]`\n",
    "\n",
    "- Appliquer à la main l’algorithme de dichotomie pour rechercher le nombre 19. Faire un tableau d’évolution des variables `debut`, `milieu` et `fin`.\n",
    "Combien d'itérations sont faites ?"
   ]
  },
  {
   "cell_type": "code",
   "execution_count": 4,
   "metadata": {},
   "outputs": [
    {
     "name": "stdout",
     "output_type": "stream",
     "text": [
      "le nombre 19 se trouve à l'indice 2\n"
     ]
    }
   ],
   "source": [
    " def recherche_dt(element, tab):\n",
    "    debut = 0\n",
    "    fin = len(tab) - 1\n",
    "    while debut <= fin:\n",
    "        milieu = (debut + fin) // 2\n",
    "\n",
    "        if element == tab[milieu]: \n",
    "            return milieu\n",
    "        elif element < tab[milieu]:\n",
    "            fin = milieu - 1\n",
    "        else:\n",
    "            debut = milieu + 1  \n",
    "    return -1\n",
    "    \n",
    "nombres = [10, 13, 19, 28, 29, 32, 34, 37, 39, 42, 48, 49, 72, 81, 86, 93, 96]\n",
    "nb = 19\n",
    "resultat = recherche_dt(nb, nombres)\n",
    "if resultat == -1:\n",
    "    print(\"le nombre\", nb, \"n'est pas dans le tableau\")\n",
    "else:\n",
    "    print(\"le nombre\", nb, \"se trouve à l'indice\", resultat)"
   ]
  },
  {
   "cell_type": "markdown",
   "metadata": {
    "deletable": false,
    "run_control": {
     "frozen": false
    },
    "tags": [
     "answer"
    ]
   },
   "source": [
    "**Réponse :** Écrire votre réponse ici.\n",
    "\n",
    "\n"
   ]
  },
  {
   "cell_type": "markdown",
   "metadata": {
    "deletable": false,
    "editable": false,
    "run_control": {
     "frozen": true
    }
   },
   "source": [
    "- Faire de même pour le nombre 20."
   ]
  },
  {
   "cell_type": "markdown",
   "metadata": {
    "deletable": false,
    "run_control": {
     "frozen": false
    },
    "tags": [
     "answer"
    ]
   },
   "source": [
    "**Réponse :** Écrire votre réponse ici.\n",
    "\n",
    "\n"
   ]
  },
  {
   "cell_type": "markdown",
   "metadata": {
    "deletable": false,
    "editable": false,
    "run_control": {
     "frozen": true
    }
   },
   "source": [
    "- D'une façon générale, quel est le nombre maximal d'itérations fait par un algorthme de recherche par dichotomie ? Quelle est la complexité dans le pire cas de cet algorithme ? Pourquoi ? "
   ]
  },
  {
   "cell_type": "markdown",
   "metadata": {
    "deletable": false,
    "run_control": {
     "frozen": false
    },
    "tags": [
     "answer"
    ]
   },
   "source": [
    "**Réponse :** Écrire votre réponse ici.\n",
    "\n",
    "\n"
   ]
  },
  {
   "cell_type": "markdown",
   "metadata": {
    "deletable": false,
    "editable": false,
    "run_control": {
     "frozen": true
    }
   },
   "source": [
    "## Exercice 4 : Inclusion avec des chaînes triées\n",
    "\n",
    "On souhaite définir une fonction `inclus2` prenant deux chaînes\n",
    "de caractères triées dans l'ordre alphabétique et renvoyant\n",
    "`True` si tous les caractères de la première sont inclus\n",
    "dans la deuxième, et `False` sinon. \n",
    "\n",
    "Peut-on utiliser le fait que les chaînes soient triées pour\n",
    "améliorer l'algorithme de l'exercice 2 ?"
   ]
  },
  {
   "cell_type": "code",
   "execution_count": null,
   "metadata": {
    "tags": [
     "answer"
    ]
   },
   "outputs": [],
   "source": [
    "############################## \n",
    "#   Saisir votre code ici.   #\n",
    "##############################\n",
    "\n",
    "\n"
   ]
  }
 ],
 "metadata": {
  "kernelspec": {
   "display_name": "Python 3",
   "language": "python",
   "name": "python3"
  },
  "language_info": {
   "codemirror_mode": {
    "name": "ipython",
    "version": 3
   },
   "file_extension": ".py",
   "mimetype": "text/x-python",
   "name": "python",
   "nbconvert_exporter": "python",
   "pygments_lexer": "ipython3",
   "version": "3.8.10"
  }
 },
 "nbformat": 4,
 "nbformat_minor": 5
}
