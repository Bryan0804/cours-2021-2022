{
 "cells": [
  {
   "cell_type": "markdown",
   "metadata": {
    "deletable": false,
    "editable": false,
    "run_control": {
     "frozen": true
    }
   },
   "source": [
    "# TP : Algorithmes de recherche"
   ]
  },
  {
   "cell_type": "markdown",
   "metadata": {
    "deletable": false,
    "editable": false,
    "run_control": {
     "frozen": true
    }
   },
   "source": [
    "## Exercice 1 : le jeu du devin\n",
    "\n",
    "On propose de programmer le jeu du devin. Les règles sont simples :\n",
    "vous choisissez (mentalement) un nombre entre 1 et 100 et le devin (c'est-à-dire l'ordinateur) doit le trouver\n",
    "en un minimum d'essais. À chaque essai, l'ordinateur propose un nombre et\n",
    "vous devez répondre (sans tricher !) s'il a trouvé (le programme\n",
    "est alors terminé), ou si votre nombre est plus grand ou plus petit que le nombre proposé."
   ]
  },
  {
   "cell_type": "code",
   "execution_count": 20,
   "metadata": {
    "tags": [
     "answer"
    ]
   },
   "outputs": [
    {
     "name": "stdout",
     "output_type": "stream",
     "text": [
      "le nombre est-il 50\n",
      "-\n",
      "le nombre est-il 25\n",
      "-\n",
      "le nombre est-il 12\n",
      "-\n",
      "le nombre est-il 6\n",
      "-\n",
      "le nombre est-il 3\n",
      "pm\n",
      "et voilà\n",
      "le nombre est-il 3\n",
      "o\n",
      "et voilà\n"
     ]
    }
   ],
   "source": [
    "\n",
    "def devin():\n",
    "    debut=1\n",
    "    fin=100\n",
    "    rep=\"\"\n",
    "    while rep != \"o\":\n",
    "        milieu = (debut + fin) // 2\n",
    "        rep = reponse(milieu)\n",
    "        if rep == \"+\":\n",
    "            debut = milieu +1\n",
    "        elif rep == \"-\":\n",
    "                fin =milieu -1\n",
    "        else:\n",
    "            print(\"et voilà\")\n",
    "devin()"
   ]
  },
  {
   "cell_type": "markdown",
   "metadata": {
    "deletable": false,
    "editable": false,
    "run_control": {
     "frozen": true
    }
   },
   "source": [
    "* Combien d'essais faut-il *au minimum* à l'ordinateur pour trouver le nombre ?\n",
    "* Combien d'essais faut-il *au maximum* à l'ordinateur pour trouver le nombre ?\n",
    "* Combien d'essais faut-il au maximum à l'ordinateur pour trouver un nombre entre 1 et 1000 ?"
   ]
  },
  {
   "cell_type": "markdown",
   "metadata": {
    "deletable": false,
    "run_control": {
     "frozen": false
    },
    "tags": [
     "answer"
    ]
   },
   "source": [
    "**Réponse :** Écrire votre réponse ici.\n",
    "\n",
    "\n"
   ]
  },
  {
   "cell_type": "markdown",
   "metadata": {
    "deletable": false,
    "editable": false,
    "run_control": {
     "frozen": true
    }
   },
   "source": [
    "## Exercice 2 : Mêmes caractères\n",
    "\n",
    "Définir la fonction `memes_caracteres` prenant deux chaînes\n",
    "et renvoyant `True` si elles comportent les mêmes caractères\n",
    "(tout caractère de l'une apparaît dans l'autre), et `False` sinon (reprendre la fonction `inclus` du TD)."
   ]
  },
  {
   "cell_type": "code",
   "execution_count": null,
   "metadata": {
    "tags": [
     "answer"
    ]
   },
   "outputs": [],
   "source": [
    "a = \"abcd\"\n",
    "b= \"cbbbbddaaaa\"\n",
    "\n"
   ]
  },
  {
   "cell_type": "markdown",
   "metadata": {
    "deletable": false,
    "editable": false,
    "run_control": {
     "frozen": true
    }
   },
   "source": [
    "Définir la fonction `memes_caracteres_trie` prenant deux chaînes\n",
    "**triées** et renvoyant `True` si elles comportent les mêmes\n",
    "caractères et `False` sinon."
   ]
  },
  {
   "cell_type": "code",
   "execution_count": null,
   "metadata": {
    "tags": [
     "answer"
    ]
   },
   "outputs": [],
   "source": [
    "############################## \n",
    "#   Saisir votre code ici.   #\n",
    "##############################\n",
    "\n",
    "\n"
   ]
  },
  {
   "cell_type": "markdown",
   "metadata": {
    "deletable": false,
    "editable": false,
    "run_control": {
     "frozen": true
    }
   },
   "source": [
    "Quelle est la complexité dans le pire des cas de chacune des fonctions ?"
   ]
  },
  {
   "cell_type": "markdown",
   "metadata": {
    "deletable": false,
    "run_control": {
     "frozen": false
    },
    "tags": [
     "answer"
    ]
   },
   "source": [
    "**Réponse :** Écrire votre réponse ici.\n",
    "\n",
    "\n"
   ]
  },
  {
   "cell_type": "markdown",
   "metadata": {
    "deletable": false,
    "editable": false,
    "run_control": {
     "frozen": true
    }
   },
   "source": [
    "## Exercice 3 : Calcul d'une racine carrée\n",
    "\n",
    "Soit une fonction mathématique $f$ continue et strictement\n",
    "monotone (comme la racine carrée). Si $f(a)$ et $f(b)$ sont de\n",
    "signe différent (soit $f(a) \\times f(b) ≤ 0$), le théorème des\n",
    "valeurs intermédiaires garantit l’existence d’un nombre $x$ tel\n",
    "que $f(x) = 0$ sur l’intervalle $[a,b]$.\n",
    "On peut rechercher ce nombre par dichotomie, de manière approchée :\n",
    "    \n",
    "- on calcule $c = (a+b)/2$ et $f(c)$.\n",
    "- si $f(a) \\times f(c) ≤ 0$, la solution $x$ appartient à\n",
    "l’intervalle $[a,c]$ ; sinon elle appartient à l’intervalle $[c,b]$.\n",
    "- dans le premier cas, on remplace $b$ par $c$ ; dans le second,\n",
    "on remplace $a$ par $c$.\n",
    "\n",
    "On répète ces étapes tant que la longeur de l’intervalle est\n",
    "supérieure à une précision $\\epsilon$ donnée.\n",
    "La valeur de $c$ approchera alors la solution de $f(x)=0$ à\n",
    "$\\epsilon/2$ près.\n",
    "\n",
    "Définir une fonction calculant de manière approchée (erreur inférieure à $10^{-5}$) la racine carrée d'un nombre $n$. Pour cela, on cherchera la solution de la fonction $f(x) = 0$ où $f(x) = x^2 -n$."
   ]
  },
  {
   "cell_type": "code",
   "execution_count": null,
   "metadata": {
    "tags": [
     "answer"
    ]
   },
   "outputs": [],
   "source": [
    "############################## \n",
    "#   Saisir votre code ici.   #\n",
    "##############################\n",
    "\n",
    "\n"
   ]
  }
 ],
 "metadata": {
  "kernelspec": {
   "display_name": "Python 3",
   "language": "python",
   "name": "python3"
  },
  "language_info": {
   "codemirror_mode": {
    "name": "ipython",
    "version": 3
   },
   "file_extension": ".py",
   "mimetype": "text/x-python",
   "name": "python",
   "nbconvert_exporter": "python",
   "pygments_lexer": "ipython3",
   "version": "3.8.10"
  }
 },
 "nbformat": 4,
 "nbformat_minor": 5
}
